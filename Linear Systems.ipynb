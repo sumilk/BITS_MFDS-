{
 "cells": [
  {
   "cell_type": "code",
   "execution_count": 1,
   "id": "35814807",
   "metadata": {},
   "outputs": [],
   "source": [
    "from LinearSystems import LinearSystemsFactory, LinearSystemsHelper\n",
    "import numpy as np\n",
    "import warnings\n",
    "warnings.filterwarnings('ignore')"
   ]
  },
  {
   "cell_type": "code",
   "execution_count": 2,
   "id": "63035bd2",
   "metadata": {},
   "outputs": [
    {
     "data": {
      "application/javascript": [
       "IPython.OutputArea.prototype._should_scroll = function(lines) {\n",
       "    return false;\n",
       "}\n"
      ],
      "text/plain": [
       "<IPython.core.display.Javascript object>"
      ]
     },
     "metadata": {},
     "output_type": "display_data"
    }
   ],
   "source": [
    "%%javascript\n",
    "IPython.OutputArea.prototype._should_scroll = function(lines) {\n",
    "    return false;\n",
    "}"
   ]
  },
  {
   "cell_type": "code",
   "execution_count": 3,
   "id": "d10c9ddf",
   "metadata": {},
   "outputs": [],
   "source": [
    "lsf =LinearSystemsFactory()\n",
    "a = [[2,4,-6],[1,5,3], [1,3,2]]\n",
    "b = [-4,10,5]\n"
   ]
  },
  {
   "cell_type": "code",
   "execution_count": 4,
   "id": "c0eb5041",
   "metadata": {},
   "outputs": [
    {
     "name": "stdout",
     "output_type": "stream",
     "text": [
      "Input Matrix:\n"
     ]
    },
    {
     "data": {
      "image/png": "[encoded data removed]",
      "text/latex": [
       "$\\displaystyle A = \\left[\\begin{matrix}4 & 11 & 14\\\\8 & 7 & -2\\end{matrix}\\right]$"
      ],
      "text/plain": [
       "    ⎡4  11  14⎤\n",
       "A = ⎢         ⎥\n",
       "    ⎣8  7   -2⎦"
      ]
     },
     "metadata": {},
     "output_type": "display_data"
    },
    {
     "name": "stdout",
     "output_type": "stream",
     "text": [
      "\n",
      "Constructing Singular Value Decomposition of A\n",
      "\n"
     ]
    },
    {
     "data": {
      "image/png": "[encoded data removed]",
      "text/latex": [
       "$\\displaystyle A = U Σ V^{T}$"
      ],
      "text/plain": [
       "         T\n",
       "A = U⋅Σ⋅V "
      ]
     },
     "metadata": {},
     "output_type": "display_data"
    },
    {
     "name": "stdout",
     "output_type": "stream",
     "text": [
      "\n",
      "Step-1: Find eigenvalues of AᵀA\n"
     ]
    },
    {
     "data": {
      "image/png": "[encoded data removed]",
      "text/latex": [
       "$\\displaystyle A^{T} A = \\left(\\left[\\begin{matrix}4 & 11 & 14\\\\8 & 7 & -2\\end{matrix}\\right]\\right)^{T} \\left[\\begin{matrix}4 & 11 & 14\\\\8 & 7 & -2\\end{matrix}\\right]$"
      ],
      "text/plain": [
       "                    T            \n",
       " T     ⎛⎡4  11  14⎤⎞  ⎡4  11  14⎤\n",
       "A ⋅A = ⎜⎢         ⎥⎟ ⋅⎢         ⎥\n",
       "       ⎝⎣8  7   -2⎦⎠  ⎣8  7   -2⎦"
      ]
     },
     "metadata": {},
     "output_type": "display_data"
    },
    {
     "data": {
      "image/png": "[encoded data removed]",
      "text/latex": [
       "$\\displaystyle A^{T} A = \\left[\\begin{matrix}80 & 100 & 40\\\\100 & 170 & 140\\\\40 & 140 & 200\\end{matrix}\\right]$"
      ],
      "text/plain": [
       "       ⎡80   100  40 ⎤\n",
       " T     ⎢             ⎥\n",
       "A ⋅A = ⎢100  170  140⎥\n",
       "       ⎢             ⎥\n",
       "       ⎣40   140  200⎦"
      ]
     },
     "metadata": {},
     "output_type": "display_data"
    },
    {
     "name": "stdout",
     "output_type": "stream",
     "text": [
      "\n",
      "Eigenvalues of AᵀA are\n"
     ]
    },
    {
     "data": {
      "image/png": "[encoded data removed]",
      "text/latex": [
       "$\\displaystyle λ_{1} = 360$"
      ],
      "text/plain": [
       "λ₁ = 360"
      ]
     },
     "metadata": {},
     "output_type": "display_data"
    },
    {
     "data": {
      "image/png": "[encoded data removed]",
      "text/latex": [
       "$\\displaystyle λ_{2} = 90$"
      ],
      "text/plain": [
       "λ₂ = 90"
      ]
     },
     "metadata": {},
     "output_type": "display_data"
    },
    {
     "data": {
      "image/png": "[encoded data removed]",
      "text/latex": [
       "$\\displaystyle λ_{3} = 0$"
      ],
      "text/plain": [
       "λ₃ = 0"
      ]
     },
     "metadata": {},
     "output_type": "display_data"
    },
    {
     "name": "stdout",
     "output_type": "stream",
     "text": [
      "\n",
      "Step-2: Setup V \n",
      "\n",
      "V is the Matrix with columns as Eigenvectors of AᵀA \n"
     ]
    },
    {
     "data": {
      "image/png": "[encoded data removed]",
      "text/latex": [
       "$\\displaystyle V = \\left[\\begin{matrix}\\frac{1}{3} & - \\frac{2}{3} & \\frac{2}{3}\\\\\\frac{2}{3} & - \\frac{1}{3} & - \\frac{2}{3}\\\\\\frac{2}{3} & \\frac{2}{3} & \\frac{1}{3}\\end{matrix}\\right]$"
      ],
      "text/plain": [
       "    ⎡1/3  -2/3  2/3 ⎤\n",
       "    ⎢               ⎥\n",
       "V = ⎢2/3  -1/3  -2/3⎥\n",
       "    ⎢               ⎥\n",
       "    ⎣2/3  2/3   1/3 ⎦"
      ]
     },
     "metadata": {},
     "output_type": "display_data"
    },
    {
     "name": "stdout",
     "output_type": "stream",
     "text": [
      "\n",
      "Step-3: Setup  Σ\n",
      "\n",
      "The square roots of Eigenvalues of AᵀA are singular values\n",
      "\n"
     ]
    },
    {
     "data": {
      "image/png": "[encoded data removed]",
      "text/latex": [
       "$\\displaystyle σ_{1} = 6 \\sqrt{10}$"
      ],
      "text/plain": [
       "σ₁ = 6⋅√10"
      ]
     },
     "metadata": {},
     "output_type": "display_data"
    },
    {
     "data": {
      "image/png": "[encoded data removed]",
      "text/latex": [
       "$\\displaystyle σ_{2} = 3 \\sqrt{10}$"
      ],
      "text/plain": [
       "σ₂ = 3⋅√10"
      ]
     },
     "metadata": {},
     "output_type": "display_data"
    },
    {
     "data": {
      "image/png": "[encoded data removed]",
      "text/latex": [
       "$\\displaystyle σ_{3} = 0$"
      ],
      "text/plain": [
       "σ₃ = 0"
      ]
     },
     "metadata": {},
     "output_type": "display_data"
    },
    {
     "name": "stdout",
     "output_type": "stream",
     "text": [
      "\n",
      "Discarding the 0 singular values\n",
      "\n",
      "\n",
      "Σ is the matrix of same shape as A conatining non zero singular values along diagonal\n",
      "\n"
     ]
    },
    {
     "data": {
      "text/latex": [
       "$\\displaystyle Σ = \\left[\\begin{matrix}6 \\sqrt{10} & 0 & 0\\\\0 & 3 \\sqrt{10} & 0\\end{matrix}\\right]$"
      ],
      "text/plain": [
       "    ⎡6⋅√10    0    0⎤\n",
       "Σ = ⎢               ⎥\n",
       "    ⎣  0    3⋅√10  0⎦"
      ]
     },
     "metadata": {},
     "output_type": "display_data"
    },
    {
     "name": "stdout",
     "output_type": "stream",
     "text": [
      "\n",
      "Step-4: Cunstruct U\n"
     ]
    },
    {
     "data": {
      "image/png": "[encoded data removed]",
      "text/latex": [
       "$\\displaystyle u_{1} = \\frac{A v_{1}}{σ_{1}}$"
      ],
      "text/plain": [
       "     A⋅v₁\n",
       "u₁ = ────\n",
       "      σ₁ "
      ]
     },
     "metadata": {},
     "output_type": "display_data"
    },
    {
     "data": {
      "image/png": "[encoded data removed]",
      "text/latex": [
       "$\\displaystyle  = \\left[\\begin{matrix}\\frac{3 \\sqrt{10}}{10}\\\\\\frac{\\sqrt{10}}{10}\\end{matrix}\\right]$"
      ],
      "text/plain": [
       "   ⎡3⋅√10⎤\n",
       "   ⎢─────⎥\n",
       "   ⎢  10 ⎥\n",
       " = ⎢     ⎥\n",
       "   ⎢ √10 ⎥\n",
       "   ⎢ ─── ⎥\n",
       "   ⎣  10 ⎦"
      ]
     },
     "metadata": {},
     "output_type": "display_data"
    },
    {
     "data": {
      "image/png": "[encoded data removed]",
      "text/latex": [
       "$\\displaystyle u_{2} = \\frac{A v_{2}}{σ_{2}}$"
      ],
      "text/plain": [
       "     A⋅v₂\n",
       "u₂ = ────\n",
       "      σ₂ "
      ]
     },
     "metadata": {},
     "output_type": "display_data"
    },
    {
     "data": {
      "image/png": "[encoded data removed]",
      "text/latex": [
       "$\\displaystyle  = \\left[\\begin{matrix}\\frac{\\sqrt{10}}{10}\\\\- \\frac{3 \\sqrt{10}}{10}\\end{matrix}\\right]$"
      ],
      "text/plain": [
       "   ⎡  √10  ⎤\n",
       "   ⎢  ───  ⎥\n",
       "   ⎢   10  ⎥\n",
       " = ⎢       ⎥\n",
       "   ⎢-3⋅√10 ⎥\n",
       "   ⎢───────⎥\n",
       "   ⎣   10  ⎦"
      ]
     },
     "metadata": {},
     "output_type": "display_data"
    },
    {
     "data": {
      "image/png": "[encoded data removed]",
      "text/latex": [
       "$\\displaystyle U = \\left[\\begin{matrix}\\frac{3 \\sqrt{10}}{10} & \\frac{\\sqrt{10}}{10}\\\\\\frac{\\sqrt{10}}{10} & - \\frac{3 \\sqrt{10}}{10}\\end{matrix}\\right]$"
      ],
      "text/plain": [
       "    ⎡3⋅√10    √10  ⎤\n",
       "    ⎢─────    ───  ⎥\n",
       "    ⎢  10      10  ⎥\n",
       "U = ⎢              ⎥\n",
       "    ⎢ √10   -3⋅√10 ⎥\n",
       "    ⎢ ───   ───────⎥\n",
       "    ⎣  10      10  ⎦"
      ]
     },
     "metadata": {},
     "output_type": "display_data"
    },
    {
     "name": "stdout",
     "output_type": "stream",
     "text": [
      "\n",
      "Singular Value decomposition of A is\n",
      "\n"
     ]
    },
    {
     "data": {
      "image/png": "[encoded data removed]",
      "text/latex": [
       "$\\displaystyle A = \\left[\\begin{matrix}\\frac{3 \\sqrt{10}}{10} & \\frac{\\sqrt{10}}{10}\\\\\\frac{\\sqrt{10}}{10} & - \\frac{3 \\sqrt{10}}{10}\\end{matrix}\\right] \\left[\\begin{matrix}6 \\sqrt{10} & 0 & 0\\\\0 & 3 \\sqrt{10} & 0\\end{matrix}\\right] \\left(\\left[\\begin{matrix}\\frac{1}{3} & - \\frac{2}{3} & \\frac{2}{3}\\\\\\frac{2}{3} & - \\frac{1}{3} & - \\frac{2}{3}\\\\\\frac{2}{3} & \\frac{2}{3} & \\frac{1}{3}\\end{matrix}\\right]\\right)^{T}$"
      ],
      "text/plain": [
       "    ⎡3⋅√10    √10  ⎤                                      T\n",
       "    ⎢─────    ───  ⎥                   ⎛⎡1/3  -2/3  2/3 ⎤⎞ \n",
       "    ⎢  10      10  ⎥ ⎡6⋅√10    0    0⎤ ⎜⎢               ⎥⎟ \n",
       "A = ⎢              ⎥⋅⎢               ⎥⋅⎜⎢2/3  -1/3  -2/3⎥⎟ \n",
       "    ⎢ √10   -3⋅√10 ⎥ ⎣  0    3⋅√10  0⎦ ⎜⎢               ⎥⎟ \n",
       "    ⎢ ───   ───────⎥                   ⎝⎣2/3  2/3   1/3 ⎦⎠ \n",
       "    ⎣  10      10  ⎦                                       "
      ]
     },
     "metadata": {},
     "output_type": "display_data"
    }
   ],
   "source": [
    "a = [[4,11,14],[8,7,-2]]\n",
    "lsf.get_linear_system(system_type='svd').solve(a = a, rounding_digit=4)"
   ]
  },
  {
   "cell_type": "code",
   "execution_count": 5,
   "id": "cb030359",
   "metadata": {},
   "outputs": [
    {
     "name": "stdout",
     "output_type": "stream",
     "text": [
      "Input Matrix:\n"
     ]
    },
    {
     "data": {
      "image/png": "[encoded data removed]",
      "text/latex": [
       "$\\displaystyle A = \\left[\\begin{matrix}1 & 1 & 1\\\\1 & 1 & 1\\end{matrix}\\right]$"
      ],
      "text/plain": [
       "    ⎡1  1  1⎤\n",
       "A = ⎢       ⎥\n",
       "    ⎣1  1  1⎦"
      ]
     },
     "metadata": {},
     "output_type": "display_data"
    },
    {
     "name": "stdout",
     "output_type": "stream",
     "text": [
      "\n",
      "Constructing Singular Value Decomposition of A\n",
      "\n"
     ]
    },
    {
     "data": {
      "image/png": "[encoded data removed]",
      "text/latex": [
       "$\\displaystyle A = U Σ V^{T}$"
      ],
      "text/plain": [
       "         T\n",
       "A = U⋅Σ⋅V "
      ]
     },
     "metadata": {},
     "output_type": "display_data"
    },
    {
     "name": "stdout",
     "output_type": "stream",
     "text": [
      "\n",
      "Step-1: Find eigenvalues of AᵀA\n"
     ]
    },
    {
     "data": {
      "image/png": "[encoded data removed]",
      "text/latex": [
       "$\\displaystyle A^{T} A = \\left(\\left[\\begin{matrix}1 & 1 & 1\\\\1 & 1 & 1\\end{matrix}\\right]\\right)^{T} \\left[\\begin{matrix}1 & 1 & 1\\\\1 & 1 & 1\\end{matrix}\\right]$"
      ],
      "text/plain": [
       "                  T          \n",
       " T     ⎛⎡1  1  1⎤⎞  ⎡1  1  1⎤\n",
       "A ⋅A = ⎜⎢       ⎥⎟ ⋅⎢       ⎥\n",
       "       ⎝⎣1  1  1⎦⎠  ⎣1  1  1⎦"
      ]
     },
     "metadata": {},
     "output_type": "display_data"
    },
    {
     "data": {
      "image/png": "[encoded data removed]",
      "text/latex": [
       "$\\displaystyle A^{T} A = \\left[\\begin{matrix}2 & 2 & 2\\\\2 & 2 & 2\\\\2 & 2 & 2\\end{matrix}\\right]$"
      ],
      "text/plain": [
       "       ⎡2  2  2⎤\n",
       " T     ⎢       ⎥\n",
       "A ⋅A = ⎢2  2  2⎥\n",
       "       ⎢       ⎥\n",
       "       ⎣2  2  2⎦"
      ]
     },
     "metadata": {},
     "output_type": "display_data"
    },
    {
     "name": "stdout",
     "output_type": "stream",
     "text": [
      "\n",
      "Eigenvalues of AᵀA are\n"
     ]
    },
    {
     "data": {
      "image/png": "[encoded data removed]",
      "text/latex": [
       "$\\displaystyle λ_{1} = 6$"
      ],
      "text/plain": [
       "λ₁ = 6"
      ]
     },
     "metadata": {},
     "output_type": "display_data"
    },
    {
     "data": {
      "image/png": "[encoded data removed]",
      "text/latex": [
       "$\\displaystyle λ_{2} = 0$"
      ],
      "text/plain": [
       "λ₂ = 0"
      ]
     },
     "metadata": {},
     "output_type": "display_data"
    },
    {
     "name": "stdout",
     "output_type": "stream",
     "text": [
      "\n",
      "Step-2: Setup V \n",
      "\n",
      "V is the Matrix with columns as Eigenvectors of AᵀA \n",
      "\n",
      "We only have 2 vectors\n",
      "\n",
      "\n",
      "So to find other 1 vectors we need to construct orthogonal vectors to \n",
      "\n"
     ]
    },
    {
     "data": {
      "image/png": "[encoded data removed]",
      "text/latex": [
       "$\\displaystyle \\left[\\begin{matrix}\\frac{\\sqrt{3}}{3} & - \\frac{\\sqrt{2}}{2}\\\\\\frac{\\sqrt{3}}{3} & \\frac{\\sqrt{2}}{2}\\\\\\frac{\\sqrt{3}}{3} & 0\\end{matrix}\\right]$"
      ],
      "text/plain": [
       "⎡√3  -√2 ⎤\n",
       "⎢──  ────⎥\n",
       "⎢3    2  ⎥\n",
       "⎢        ⎥\n",
       "⎢√3   √2 ⎥\n",
       "⎢──   ── ⎥\n",
       "⎢3    2  ⎥\n",
       "⎢        ⎥\n",
       "⎢√3      ⎥\n",
       "⎢──   0  ⎥\n",
       "⎣3       ⎦"
      ]
     },
     "metadata": {},
     "output_type": "display_data"
    },
    {
     "name": "stdout",
     "output_type": "stream",
     "text": [
      "\n",
      "using orthogonality conditions\n",
      "\n",
      "Orthogonal vectors to v are\n"
     ]
    },
    {
     "data": {
      "image/png": "[encoded data removed]",
      "text/latex": [
       "$\\displaystyle \\left[ \\left[\\begin{matrix}-1\\\\1\\\\0\\end{matrix}\\right], \\  \\left[\\begin{matrix}-1\\\\0\\\\1\\end{matrix}\\right]\\right]$"
      ],
      "text/plain": [
       "⎡⎡-1⎤  ⎡-1⎤⎤\n",
       "⎢⎢  ⎥  ⎢  ⎥⎥\n",
       "⎢⎢1 ⎥, ⎢0 ⎥⎥\n",
       "⎢⎢  ⎥  ⎢  ⎥⎥\n",
       "⎣⎣0 ⎦  ⎣1 ⎦⎦"
      ]
     },
     "metadata": {},
     "output_type": "display_data"
    },
    {
     "name": "stdout",
     "output_type": "stream",
     "text": [
      "To construct V, we need to find orthonormal set of vectors\n",
      "Input vectors: \n"
     ]
    },
    {
     "data": {
      "image/png": "[encoded data removed]",
      "text/latex": [
       "$\\displaystyle a_{1} = \\left[\\begin{matrix}\\frac{\\sqrt{3}}{3}\\\\\\frac{\\sqrt{3}}{3}\\\\\\frac{\\sqrt{3}}{3}\\end{matrix}\\right]$"
      ],
      "text/plain": [
       "     ⎡√3⎤\n",
       "     ⎢──⎥\n",
       "     ⎢3 ⎥\n",
       "     ⎢  ⎥\n",
       "     ⎢√3⎥\n",
       "a₁ = ⎢──⎥\n",
       "     ⎢3 ⎥\n",
       "     ⎢  ⎥\n",
       "     ⎢√3⎥\n",
       "     ⎢──⎥\n",
       "     ⎣3 ⎦"
      ]
     },
     "metadata": {},
     "output_type": "display_data"
    },
    {
     "data": {
      "image/png": "[encoded data removed]",
      "text/latex": [
       "$\\displaystyle a_{2} = \\left[\\begin{matrix}-1\\\\1\\\\0\\end{matrix}\\right]$"
      ],
      "text/plain": [
       "     ⎡-1⎤\n",
       "     ⎢  ⎥\n",
       "a₂ = ⎢1 ⎥\n",
       "     ⎢  ⎥\n",
       "     ⎣0 ⎦"
      ]
     },
     "metadata": {},
     "output_type": "display_data"
    },
    {
     "data": {
      "image/png": "[encoded data removed]",
      "text/latex": [
       "$\\displaystyle a_{3} = \\left[\\begin{matrix}-1\\\\0\\\\1\\end{matrix}\\right]$"
      ],
      "text/plain": [
       "     ⎡-1⎤\n",
       "     ⎢  ⎥\n",
       "a₃ = ⎢0 ⎥\n",
       "     ⎢  ⎥\n",
       "     ⎣1 ⎦"
      ]
     },
     "metadata": {},
     "output_type": "display_data"
    },
    {
     "name": "stdout",
     "output_type": "stream",
     "text": [
      "\n",
      "\n",
      "Initiating Gram Schmidt Orthonormalization to find Orthonornal vectors q\n",
      "\n",
      "\n"
     ]
    },
    {
     "data": {
      "image/png": "[encoded data removed]",
      "text/latex": [
       "$\\displaystyle q_{1} = a_{1}$"
      ],
      "text/plain": [
       "q₁ = a₁"
      ]
     },
     "metadata": {},
     "output_type": "display_data"
    },
    {
     "data": {
      "image/png": "[encoded data removed]",
      "text/latex": [
       "$\\displaystyle q_{1} = \\left[\\begin{matrix}\\frac{\\sqrt{3}}{3}\\\\\\frac{\\sqrt{3}}{3}\\\\\\frac{\\sqrt{3}}{3}\\end{matrix}\\right]$"
      ],
      "text/plain": [
       "     ⎡√3⎤\n",
       "     ⎢──⎥\n",
       "     ⎢3 ⎥\n",
       "     ⎢  ⎥\n",
       "     ⎢√3⎥\n",
       "q₁ = ⎢──⎥\n",
       "     ⎢3 ⎥\n",
       "     ⎢  ⎥\n",
       "     ⎢√3⎥\n",
       "     ⎢──⎥\n",
       "     ⎣3 ⎦"
      ]
     },
     "metadata": {},
     "output_type": "display_data"
    },
    {
     "data": {
      "image/png": "[encoded data removed]",
      "text/latex": [
       "$\\displaystyle q_{1} = \\left[\\begin{matrix}0.577350269189626\\\\0.577350269189626\\\\0.577350269189626\\end{matrix}\\right]$"
      ],
      "text/plain": [
       "     ⎡0.577350269189626⎤\n",
       "     ⎢                 ⎥\n",
       "q₁ = ⎢0.577350269189626⎥\n",
       "     ⎢                 ⎥\n",
       "     ⎣0.577350269189626⎦"
      ]
     },
     "metadata": {},
     "output_type": "display_data"
    },
    {
     "name": "stdout",
     "output_type": "stream",
     "text": [
      "Normalizing the vector\n"
     ]
    },
    {
     "data": {
      "image/png": "[encoded data removed]",
      "text/latex": [
       "$\\displaystyle q_{1} = \\left[\\begin{matrix}\\frac{\\sqrt{3}}{3}\\\\\\frac{\\sqrt{3}}{3}\\\\\\frac{\\sqrt{3}}{3}\\end{matrix}\\right]$"
      ],
      "text/plain": [
       "     ⎡√3⎤\n",
       "     ⎢──⎥\n",
       "     ⎢3 ⎥\n",
       "     ⎢  ⎥\n",
       "     ⎢√3⎥\n",
       "q₁ = ⎢──⎥\n",
       "     ⎢3 ⎥\n",
       "     ⎢  ⎥\n",
       "     ⎢√3⎥\n",
       "     ⎢──⎥\n",
       "     ⎣3 ⎦"
      ]
     },
     "metadata": {},
     "output_type": "display_data"
    },
    {
     "data": {
      "image/png": "[encoded data removed]",
      "text/latex": [
       "$\\displaystyle q_{1} = \\left[\\begin{matrix}0.577350269189626\\\\0.577350269189626\\\\0.577350269189626\\end{matrix}\\right]$"
      ],
      "text/plain": [
       "     ⎡0.577350269189626⎤\n",
       "     ⎢                 ⎥\n",
       "q₁ = ⎢0.577350269189626⎥\n",
       "     ⎢                 ⎥\n",
       "     ⎣0.577350269189626⎦"
      ]
     },
     "metadata": {},
     "output_type": "display_data"
    },
    {
     "data": {
      "image/png": "[encoded data removed]",
      "text/latex": [
       "$\\displaystyle q_{2} = a_{2} - \\frac{q_{1} \\left\\langle a_{2} \\right. {\\left|q_{1}\\right\\rangle }}{\\left\\langle q_{1} \\right. {\\left|q_{1}\\right\\rangle }}$"
      ],
      "text/plain": [
       "          q₁⋅⟨a₂❘q₁⟩\n",
       "q₂ = a₂ - ──────────\n",
       "           ⟨q₁❘q₁⟩  "
      ]
     },
     "metadata": {},
     "output_type": "display_data"
    },
    {
     "data": {
      "image/png": "[encoded data removed]",
      "text/latex": [
       "$\\displaystyle q_{2} = \\left[\\begin{matrix}-1\\\\1\\\\0\\end{matrix}\\right]$"
      ],
      "text/plain": [
       "     ⎡-1⎤\n",
       "     ⎢  ⎥\n",
       "q₂ = ⎢1 ⎥\n",
       "     ⎢  ⎥\n",
       "     ⎣0 ⎦"
      ]
     },
     "metadata": {},
     "output_type": "display_data"
    },
    {
     "data": {
      "image/png": "[encoded data removed]",
      "text/latex": [
       "$\\displaystyle q_{2} = \\left[\\begin{matrix}-1.0\\\\1.0\\\\0\\end{matrix}\\right]$"
      ],
      "text/plain": [
       "     ⎡-1.0⎤\n",
       "     ⎢    ⎥\n",
       "q₂ = ⎢1.0 ⎥\n",
       "     ⎢    ⎥\n",
       "     ⎣ 0  ⎦"
      ]
     },
     "metadata": {},
     "output_type": "display_data"
    },
    {
     "name": "stdout",
     "output_type": "stream",
     "text": [
      "Normalizing the vector\n"
     ]
    },
    {
     "data": {
      "image/png": "[encoded data removed]",
      "text/latex": [
       "$\\displaystyle q_{2} = \\left[\\begin{matrix}- \\frac{\\sqrt{2}}{2}\\\\\\frac{\\sqrt{2}}{2}\\\\0\\end{matrix}\\right]$"
      ],
      "text/plain": [
       "     ⎡-√2 ⎤\n",
       "     ⎢────⎥\n",
       "     ⎢ 2  ⎥\n",
       "     ⎢    ⎥\n",
       "q₂ = ⎢ √2 ⎥\n",
       "     ⎢ ── ⎥\n",
       "     ⎢ 2  ⎥\n",
       "     ⎢    ⎥\n",
       "     ⎣ 0  ⎦"
      ]
     },
     "metadata": {},
     "output_type": "display_data"
    },
    {
     "data": {
      "image/png": "[encoded data removed]",
      "text/latex": [
       "$\\displaystyle q_{2} = \\left[\\begin{matrix}-0.707106781186547\\\\0.707106781186547\\\\0\\end{matrix}\\right]$"
      ],
      "text/plain": [
       "     ⎡-0.707106781186547⎤\n",
       "     ⎢                  ⎥\n",
       "q₂ = ⎢0.707106781186547 ⎥\n",
       "     ⎢                  ⎥\n",
       "     ⎣        0         ⎦"
      ]
     },
     "metadata": {},
     "output_type": "display_data"
    },
    {
     "data": {
      "image/png": "[encoded data removed]",
      "text/latex": [
       "$\\displaystyle q_{3} = a_{3} - \\frac{q_{1} \\left\\langle a_{3} \\right. {\\left|q_{1}\\right\\rangle }}{\\left\\langle q_{1} \\right. {\\left|q_{1}\\right\\rangle }} - \\frac{q_{2} \\left\\langle a_{3} \\right. {\\left|q_{2}\\right\\rangle }}{\\left\\langle q_{2} \\right. {\\left|q_{2}\\right\\rangle }}$"
      ],
      "text/plain": [
       "          q₁⋅⟨a₃❘q₁⟩   q₂⋅⟨a₃❘q₂⟩\n",
       "q₃ = a₃ - ────────── - ──────────\n",
       "           ⟨q₁❘q₁⟩      ⟨q₂❘q₂⟩  "
      ]
     },
     "metadata": {},
     "output_type": "display_data"
    },
    {
     "data": {
      "image/png": "[encoded data removed]",
      "text/latex": [
       "$\\displaystyle q_{3} = \\left[\\begin{matrix}- \\frac{1}{2}\\\\- \\frac{1}{2}\\\\1\\end{matrix}\\right]$"
      ],
      "text/plain": [
       "     ⎡-1/2⎤\n",
       "     ⎢    ⎥\n",
       "q₃ = ⎢-1/2⎥\n",
       "     ⎢    ⎥\n",
       "     ⎣ 1  ⎦"
      ]
     },
     "metadata": {},
     "output_type": "display_data"
    },
    {
     "data": {
      "image/png": "[encoded data removed]",
      "text/latex": [
       "$\\displaystyle q_{3} = \\left[\\begin{matrix}-0.5\\\\-0.5\\\\1.0\\end{matrix}\\right]$"
      ],
      "text/plain": [
       "     ⎡-0.5⎤\n",
       "     ⎢    ⎥\n",
       "q₃ = ⎢-0.5⎥\n",
       "     ⎢    ⎥\n",
       "     ⎣1.0 ⎦"
      ]
     },
     "metadata": {},
     "output_type": "display_data"
    },
    {
     "name": "stdout",
     "output_type": "stream",
     "text": [
      "Normalizing the vector\n"
     ]
    },
    {
     "data": {
      "image/png": "[encoded data removed]",
      "text/latex": [
       "$\\displaystyle q_{3} = \\left[\\begin{matrix}- \\frac{\\sqrt{6}}{6}\\\\- \\frac{\\sqrt{6}}{6}\\\\\\frac{\\sqrt{6}}{3}\\end{matrix}\\right]$"
      ],
      "text/plain": [
       "     ⎡-√6 ⎤\n",
       "     ⎢────⎥\n",
       "     ⎢ 6  ⎥\n",
       "     ⎢    ⎥\n",
       "     ⎢-√6 ⎥\n",
       "q₃ = ⎢────⎥\n",
       "     ⎢ 6  ⎥\n",
       "     ⎢    ⎥\n",
       "     ⎢ √6 ⎥\n",
       "     ⎢ ── ⎥\n",
       "     ⎣ 3  ⎦"
      ]
     },
     "metadata": {},
     "output_type": "display_data"
    },
    {
     "data": {
      "image/png": "[encoded data removed]",
      "text/latex": [
       "$\\displaystyle q_{3} = \\left[\\begin{matrix}-0.408248290463863\\\\-0.408248290463863\\\\0.816496580927726\\end{matrix}\\right]$"
      ],
      "text/plain": [
       "     ⎡-0.408248290463863⎤\n",
       "     ⎢                  ⎥\n",
       "q₃ = ⎢-0.408248290463863⎥\n",
       "     ⎢                  ⎥\n",
       "     ⎣0.816496580927726 ⎦"
      ]
     },
     "metadata": {},
     "output_type": "display_data"
    },
    {
     "name": "stdout",
     "output_type": "stream",
     "text": [
      "\n",
      "\n",
      "The orthonormal vectors are:\n",
      "\n"
     ]
    },
    {
     "data": {
      "image/png": "[encoded data removed]",
      "text/latex": [
       "$\\displaystyle q_{1} = \\left[\\begin{matrix}\\frac{\\sqrt{3}}{3}\\\\\\frac{\\sqrt{3}}{3}\\\\\\frac{\\sqrt{3}}{3}\\end{matrix}\\right]$"
      ],
      "text/plain": [
       "     ⎡√3⎤\n",
       "     ⎢──⎥\n",
       "     ⎢3 ⎥\n",
       "     ⎢  ⎥\n",
       "     ⎢√3⎥\n",
       "q₁ = ⎢──⎥\n",
       "     ⎢3 ⎥\n",
       "     ⎢  ⎥\n",
       "     ⎢√3⎥\n",
       "     ⎢──⎥\n",
       "     ⎣3 ⎦"
      ]
     },
     "metadata": {},
     "output_type": "display_data"
    },
    {
     "data": {
      "image/png": "[encoded data removed]",
      "text/latex": [
       "$\\displaystyle q_{2} = \\left[\\begin{matrix}- \\frac{\\sqrt{2}}{2}\\\\\\frac{\\sqrt{2}}{2}\\\\0\\end{matrix}\\right]$"
      ],
      "text/plain": [
       "     ⎡-√2 ⎤\n",
       "     ⎢────⎥\n",
       "     ⎢ 2  ⎥\n",
       "     ⎢    ⎥\n",
       "q₂ = ⎢ √2 ⎥\n",
       "     ⎢ ── ⎥\n",
       "     ⎢ 2  ⎥\n",
       "     ⎢    ⎥\n",
       "     ⎣ 0  ⎦"
      ]
     },
     "metadata": {},
     "output_type": "display_data"
    },
    {
     "data": {
      "image/png": "[encoded data removed]",
      "text/latex": [
       "$\\displaystyle q_{3} = \\left[\\begin{matrix}- \\frac{\\sqrt{6}}{6}\\\\- \\frac{\\sqrt{6}}{6}\\\\\\frac{\\sqrt{6}}{3}\\end{matrix}\\right]$"
      ],
      "text/plain": [
       "     ⎡-√6 ⎤\n",
       "     ⎢────⎥\n",
       "     ⎢ 6  ⎥\n",
       "     ⎢    ⎥\n",
       "     ⎢-√6 ⎥\n",
       "q₃ = ⎢────⎥\n",
       "     ⎢ 6  ⎥\n",
       "     ⎢    ⎥\n",
       "     ⎢ √6 ⎥\n",
       "     ⎢ ── ⎥\n",
       "     ⎣ 3  ⎦"
      ]
     },
     "metadata": {},
     "output_type": "display_data"
    },
    {
     "data": {
      "image/png": "[encoded data removed]",
      "text/latex": [
       "$\\displaystyle V = \\left[\\begin{matrix}\\frac{\\sqrt{3}}{3} & - \\frac{\\sqrt{2}}{2} & - \\frac{\\sqrt{6}}{6}\\\\\\frac{\\sqrt{3}}{3} & \\frac{\\sqrt{2}}{2} & - \\frac{\\sqrt{6}}{6}\\\\\\frac{\\sqrt{3}}{3} & 0 & \\frac{\\sqrt{6}}{3}\\end{matrix}\\right]$"
      ],
      "text/plain": [
       "    ⎡√3  -√2   -√6 ⎤\n",
       "    ⎢──  ────  ────⎥\n",
       "    ⎢3    2     6  ⎥\n",
       "    ⎢              ⎥\n",
       "    ⎢√3   √2   -√6 ⎥\n",
       "V = ⎢──   ──   ────⎥\n",
       "    ⎢3    2     6  ⎥\n",
       "    ⎢              ⎥\n",
       "    ⎢√3         √6 ⎥\n",
       "    ⎢──   0     ── ⎥\n",
       "    ⎣3          3  ⎦"
      ]
     },
     "metadata": {},
     "output_type": "display_data"
    },
    {
     "name": "stdout",
     "output_type": "stream",
     "text": [
      "\n",
      "Step-3: Setup  Σ\n",
      "\n",
      "The square roots of Eigenvalues of AᵀA are singular values\n",
      "\n"
     ]
    },
    {
     "data": {
      "image/png": "[encoded data removed]",
      "text/latex": [
       "$\\displaystyle σ_{1} = \\sqrt{6}$"
      ],
      "text/plain": [
       "σ₁ = √6"
      ]
     },
     "metadata": {},
     "output_type": "display_data"
    },
    {
     "data": {
      "image/png": "[encoded data removed]",
      "text/latex": [
       "$\\displaystyle σ_{2} = 0$"
      ],
      "text/plain": [
       "σ₂ = 0"
      ]
     },
     "metadata": {},
     "output_type": "display_data"
    },
    {
     "name": "stdout",
     "output_type": "stream",
     "text": [
      "\n",
      "Discarding the 0 singular values\n",
      "\n",
      "\n",
      "Σ is the matrix of same shape as A conatining non zero singular values along diagonal\n",
      "\n"
     ]
    },
    {
     "data": {
      "text/latex": [
       "$\\displaystyle Σ = \\left[\\begin{matrix}\\sqrt{6} & 0 & 0\\\\0 & 0 & 0\\end{matrix}\\right]$"
      ],
      "text/plain": [
       "    ⎡√6  0  0⎤\n",
       "Σ = ⎢        ⎥\n",
       "    ⎣0   0  0⎦"
      ]
     },
     "metadata": {},
     "output_type": "display_data"
    },
    {
     "name": "stdout",
     "output_type": "stream",
     "text": [
      "\n",
      "Step-4: Cunstruct U\n"
     ]
    },
    {
     "data": {
      "image/png": "[encoded data removed]",
      "text/latex": [
       "$\\displaystyle u_{1} = \\frac{A v_{1}}{σ_{1}}$"
      ],
      "text/plain": [
       "     A⋅v₁\n",
       "u₁ = ────\n",
       "      σ₁ "
      ]
     },
     "metadata": {},
     "output_type": "display_data"
    },
    {
     "data": {
      "image/png": "[encoded data removed]",
      "text/latex": [
       "$\\displaystyle  = \\left[\\begin{matrix}\\frac{\\sqrt{2}}{2}\\\\\\frac{\\sqrt{2}}{2}\\end{matrix}\\right]$"
      ],
      "text/plain": [
       "   ⎡√2⎤\n",
       "   ⎢──⎥\n",
       "   ⎢2 ⎥\n",
       " = ⎢  ⎥\n",
       "   ⎢√2⎥\n",
       "   ⎢──⎥\n",
       "   ⎣2 ⎦"
      ]
     },
     "metadata": {},
     "output_type": "display_data"
    },
    {
     "name": "stdout",
     "output_type": "stream",
     "text": [
      "\n",
      "Eigenvalue 2 is zero.\n",
      "\n",
      "\n",
      "So to find other 1 vectors we need to construct orthogonal vectors to \n",
      "\n"
     ]
    },
    {
     "data": {
      "image/png": "[encoded data removed]",
      "text/latex": [
       "$\\displaystyle \\left[ \\left[\\begin{matrix}\\frac{\\sqrt{2}}{2}\\\\\\frac{\\sqrt{2}}{2}\\end{matrix}\\right]\\right]$"
      ],
      "text/plain": [
       "⎡⎡√2⎤⎤\n",
       "⎢⎢──⎥⎥\n",
       "⎢⎢2 ⎥⎥\n",
       "⎢⎢  ⎥⎥\n",
       "⎢⎢√2⎥⎥\n",
       "⎢⎢──⎥⎥\n",
       "⎣⎣2 ⎦⎦"
      ]
     },
     "metadata": {},
     "output_type": "display_data"
    },
    {
     "name": "stdout",
     "output_type": "stream",
     "text": [
      "\n",
      "using orthogonality conditions\n",
      "\n",
      "Orthogonal vectors to u are\n"
     ]
    },
    {
     "data": {
      "image/png": "[encoded data removed]",
      "text/latex": [
       "$\\displaystyle \\left[\\begin{matrix}-1\\\\1\\end{matrix}\\right]$"
      ],
      "text/plain": [
       "⎡-1⎤\n",
       "⎢  ⎥\n",
       "⎣1 ⎦"
      ]
     },
     "metadata": {},
     "output_type": "display_data"
    },
    {
     "name": "stdout",
     "output_type": "stream",
     "text": [
      "To construct U, we need to find orthonormal set of vectors\n",
      "Input vectors: \n"
     ]
    },
    {
     "data": {
      "image/png": "[encoded data removed]",
      "text/latex": [
       "$\\displaystyle a_{1} = \\left[\\begin{matrix}\\frac{\\sqrt{2}}{2}\\\\\\frac{\\sqrt{2}}{2}\\end{matrix}\\right]$"
      ],
      "text/plain": [
       "     ⎡√2⎤\n",
       "     ⎢──⎥\n",
       "     ⎢2 ⎥\n",
       "a₁ = ⎢  ⎥\n",
       "     ⎢√2⎥\n",
       "     ⎢──⎥\n",
       "     ⎣2 ⎦"
      ]
     },
     "metadata": {},
     "output_type": "display_data"
    },
    {
     "data": {
      "image/png": "[encoded data removed]",
      "text/latex": [
       "$\\displaystyle a_{2} = \\left[\\begin{matrix}-1\\\\1\\end{matrix}\\right]$"
      ],
      "text/plain": [
       "     ⎡-1⎤\n",
       "a₂ = ⎢  ⎥\n",
       "     ⎣1 ⎦"
      ]
     },
     "metadata": {},
     "output_type": "display_data"
    },
    {
     "name": "stdout",
     "output_type": "stream",
     "text": [
      "\n",
      "\n",
      "Initiating Gram Schmidt Orthonormalization to find Orthonornal vectors q\n",
      "\n",
      "\n"
     ]
    },
    {
     "data": {
      "image/png": "[encoded data removed]",
      "text/latex": [
       "$\\displaystyle q_{1} = a_{1}$"
      ],
      "text/plain": [
       "q₁ = a₁"
      ]
     },
     "metadata": {},
     "output_type": "display_data"
    },
    {
     "data": {
      "image/png": "[encoded data removed]",
      "text/latex": [
       "$\\displaystyle q_{1} = \\left[\\begin{matrix}\\frac{\\sqrt{2}}{2}\\\\\\frac{\\sqrt{2}}{2}\\end{matrix}\\right]$"
      ],
      "text/plain": [
       "     ⎡√2⎤\n",
       "     ⎢──⎥\n",
       "     ⎢2 ⎥\n",
       "q₁ = ⎢  ⎥\n",
       "     ⎢√2⎥\n",
       "     ⎢──⎥\n",
       "     ⎣2 ⎦"
      ]
     },
     "metadata": {},
     "output_type": "display_data"
    },
    {
     "data": {
      "image/png": "[encoded data removed]",
      "text/latex": [
       "$\\displaystyle q_{1} = \\left[\\begin{matrix}0.707106781186548\\\\0.707106781186548\\end{matrix}\\right]$"
      ],
      "text/plain": [
       "     ⎡0.707106781186548⎤\n",
       "q₁ = ⎢                 ⎥\n",
       "     ⎣0.707106781186548⎦"
      ]
     },
     "metadata": {},
     "output_type": "display_data"
    },
    {
     "name": "stdout",
     "output_type": "stream",
     "text": [
      "Normalizing the vector\n"
     ]
    },
    {
     "data": {
      "image/png": "[encoded data removed]",
      "text/latex": [
       "$\\displaystyle q_{1} = \\left[\\begin{matrix}\\frac{\\sqrt{2}}{2}\\\\\\frac{\\sqrt{2}}{2}\\end{matrix}\\right]$"
      ],
      "text/plain": [
       "     ⎡√2⎤\n",
       "     ⎢──⎥\n",
       "     ⎢2 ⎥\n",
       "q₁ = ⎢  ⎥\n",
       "     ⎢√2⎥\n",
       "     ⎢──⎥\n",
       "     ⎣2 ⎦"
      ]
     },
     "metadata": {},
     "output_type": "display_data"
    },
    {
     "data": {
      "image/png": "[encoded data removed]",
      "text/latex": [
       "$\\displaystyle q_{1} = \\left[\\begin{matrix}0.707106781186548\\\\0.707106781186548\\end{matrix}\\right]$"
      ],
      "text/plain": [
       "     ⎡0.707106781186548⎤\n",
       "q₁ = ⎢                 ⎥\n",
       "     ⎣0.707106781186548⎦"
      ]
     },
     "metadata": {},
     "output_type": "display_data"
    },
    {
     "data": {
      "image/png": "[encoded data removed]",
      "text/latex": [
       "$\\displaystyle q_{2} = a_{2} - \\frac{q_{1} \\left\\langle a_{2} \\right. {\\left|q_{1}\\right\\rangle }}{\\left\\langle q_{1} \\right. {\\left|q_{1}\\right\\rangle }}$"
      ],
      "text/plain": [
       "          q₁⋅⟨a₂❘q₁⟩\n",
       "q₂ = a₂ - ──────────\n",
       "           ⟨q₁❘q₁⟩  "
      ]
     },
     "metadata": {},
     "output_type": "display_data"
    },
    {
     "data": {
      "image/png": "[encoded data removed]",
      "text/latex": [
       "$\\displaystyle q_{2} = \\left[\\begin{matrix}-1\\\\1\\end{matrix}\\right]$"
      ],
      "text/plain": [
       "     ⎡-1⎤\n",
       "q₂ = ⎢  ⎥\n",
       "     ⎣1 ⎦"
      ]
     },
     "metadata": {},
     "output_type": "display_data"
    },
    {
     "data": {
      "image/png": "[encoded data removed]",
      "text/latex": [
       "$\\displaystyle q_{2} = \\left[\\begin{matrix}-1.0\\\\1.0\\end{matrix}\\right]$"
      ],
      "text/plain": [
       "     ⎡-1.0⎤\n",
       "q₂ = ⎢    ⎥\n",
       "     ⎣1.0 ⎦"
      ]
     },
     "metadata": {},
     "output_type": "display_data"
    },
    {
     "name": "stdout",
     "output_type": "stream",
     "text": [
      "Normalizing the vector\n"
     ]
    },
    {
     "data": {
      "image/png": "[encoded data removed]",
      "text/latex": [
       "$\\displaystyle q_{2} = \\left[\\begin{matrix}- \\frac{\\sqrt{2}}{2}\\\\\\frac{\\sqrt{2}}{2}\\end{matrix}\\right]$"
      ],
      "text/plain": [
       "     ⎡-√2 ⎤\n",
       "     ⎢────⎥\n",
       "     ⎢ 2  ⎥\n",
       "q₂ = ⎢    ⎥\n",
       "     ⎢ √2 ⎥\n",
       "     ⎢ ── ⎥\n",
       "     ⎣ 2  ⎦"
      ]
     },
     "metadata": {},
     "output_type": "display_data"
    },
    {
     "data": {
      "image/png": "[encoded data removed]",
      "text/latex": [
       "$\\displaystyle q_{2} = \\left[\\begin{matrix}-0.707106781186547\\\\0.707106781186547\\end{matrix}\\right]$"
      ],
      "text/plain": [
       "     ⎡-0.707106781186547⎤\n",
       "q₂ = ⎢                  ⎥\n",
       "     ⎣0.707106781186547 ⎦"
      ]
     },
     "metadata": {},
     "output_type": "display_data"
    },
    {
     "name": "stdout",
     "output_type": "stream",
     "text": [
      "\n",
      "\n",
      "The orthonormal vectors are:\n",
      "\n"
     ]
    },
    {
     "data": {
      "image/png": "[encoded data removed]",
      "text/latex": [
       "$\\displaystyle q_{1} = \\left[\\begin{matrix}\\frac{\\sqrt{2}}{2}\\\\\\frac{\\sqrt{2}}{2}\\end{matrix}\\right]$"
      ],
      "text/plain": [
       "     ⎡√2⎤\n",
       "     ⎢──⎥\n",
       "     ⎢2 ⎥\n",
       "q₁ = ⎢  ⎥\n",
       "     ⎢√2⎥\n",
       "     ⎢──⎥\n",
       "     ⎣2 ⎦"
      ]
     },
     "metadata": {},
     "output_type": "display_data"
    },
    {
     "data": {
      "image/png": "[encoded data removed]",
      "text/latex": [
       "$\\displaystyle q_{2} = \\left[\\begin{matrix}- \\frac{\\sqrt{2}}{2}\\\\\\frac{\\sqrt{2}}{2}\\end{matrix}\\right]$"
      ],
      "text/plain": [
       "     ⎡-√2 ⎤\n",
       "     ⎢────⎥\n",
       "     ⎢ 2  ⎥\n",
       "q₂ = ⎢    ⎥\n",
       "     ⎢ √2 ⎥\n",
       "     ⎢ ── ⎥\n",
       "     ⎣ 2  ⎦"
      ]
     },
     "metadata": {},
     "output_type": "display_data"
    },
    {
     "data": {
      "image/png": "[encoded data removed]",
      "text/latex": [
       "$\\displaystyle U = \\left[\\begin{matrix}\\frac{\\sqrt{2}}{2} & - \\frac{\\sqrt{2}}{2}\\\\\\frac{\\sqrt{2}}{2} & \\frac{\\sqrt{2}}{2}\\end{matrix}\\right]$"
      ],
      "text/plain": [
       "    ⎡√2  -√2 ⎤\n",
       "    ⎢──  ────⎥\n",
       "    ⎢2    2  ⎥\n",
       "U = ⎢        ⎥\n",
       "    ⎢√2   √2 ⎥\n",
       "    ⎢──   ── ⎥\n",
       "    ⎣2    2  ⎦"
      ]
     },
     "metadata": {},
     "output_type": "display_data"
    },
    {
     "name": "stdout",
     "output_type": "stream",
     "text": [
      "\n",
      "Singular Value decomposition of A is\n",
      "\n"
     ]
    },
    {
     "data": {
      "image/png": "[encoded data removed]",
      "text/latex": [
       "$\\displaystyle A = \\left[\\begin{matrix}\\frac{\\sqrt{2}}{2} & - \\frac{\\sqrt{2}}{2}\\\\\\frac{\\sqrt{2}}{2} & \\frac{\\sqrt{2}}{2}\\end{matrix}\\right] \\left[\\begin{matrix}\\sqrt{6} & 0 & 0\\\\0 & 0 & 0\\end{matrix}\\right] \\left(\\left[\\begin{matrix}\\frac{\\sqrt{3}}{3} & - \\frac{\\sqrt{2}}{2} & - \\frac{\\sqrt{6}}{6}\\\\\\frac{\\sqrt{3}}{3} & \\frac{\\sqrt{2}}{2} & - \\frac{\\sqrt{6}}{6}\\\\\\frac{\\sqrt{3}}{3} & 0 & \\frac{\\sqrt{6}}{3}\\end{matrix}\\right]\\right)^{T}$"
      ],
      "text/plain": [
       "                                            T\n",
       "                          ⎛⎡√3  -√2   -√6 ⎤⎞ \n",
       "                          ⎜⎢──  ────  ────⎥⎟ \n",
       "    ⎡√2  -√2 ⎤            ⎜⎢3    2     6  ⎥⎟ \n",
       "    ⎢──  ────⎥            ⎜⎢              ⎥⎟ \n",
       "    ⎢2    2  ⎥ ⎡√6  0  0⎤ ⎜⎢√3   √2   -√6 ⎥⎟ \n",
       "A = ⎢        ⎥⋅⎢        ⎥⋅⎜⎢──   ──   ────⎥⎟ \n",
       "    ⎢√2   √2 ⎥ ⎣0   0  0⎦ ⎜⎢3    2     6  ⎥⎟ \n",
       "    ⎢──   ── ⎥            ⎜⎢              ⎥⎟ \n",
       "    ⎣2    2  ⎦            ⎜⎢√3         √6 ⎥⎟ \n",
       "                          ⎜⎢──   0     ── ⎥⎟ \n",
       "                          ⎝⎣3          3  ⎦⎠ "
      ]
     },
     "metadata": {},
     "output_type": "display_data"
    }
   ],
   "source": [
    "a = [[1,1,1],[1,1,1]]\n",
    "lsf.get_linear_system(system_type='svd').solve(a = a, rounding_digit=4)"
   ]
  },
  {
   "cell_type": "code",
   "execution_count": 5,
   "id": "41ac4edf",
   "metadata": {},
   "outputs": [
    {
     "name": "stdout",
     "output_type": "stream",
     "text": [
      "Input Matrix:\n"
     ]
    },
    {
     "data": {
      "image/png": "[encoded data removed]",
      "text/latex": [
       "$\\displaystyle A = \\left[\\begin{matrix}1 & 0 & 0\\\\1 & 1 & 0\\\\1 & 1 & 1\\\\1 & 1 & 1\\end{matrix}\\right]$"
      ],
      "text/plain": [
       "    ⎡1  0  0⎤\n",
       "    ⎢       ⎥\n",
       "    ⎢1  1  0⎥\n",
       "A = ⎢       ⎥\n",
       "    ⎢1  1  1⎥\n",
       "    ⎢       ⎥\n",
       "    ⎣1  1  1⎦"
      ]
     },
     "metadata": {},
     "output_type": "display_data"
    },
    {
     "name": "stdout",
     "output_type": "stream",
     "text": [
      "\n",
      "To find QR factorization of A we need to find\n",
      "\n"
     ]
    },
    {
     "data": {
      "image/png": "[encoded data removed]",
      "text/latex": [
       "$\\displaystyle A = Q R$"
      ],
      "text/plain": [
       "A = Q⋅R"
      ]
     },
     "metadata": {},
     "output_type": "display_data"
    },
    {
     "name": "stdout",
     "output_type": "stream",
     "text": [
      "\n",
      "Where Q is the matrix having orthonormal column vectors found by applying Gram Schmidt Orthonormalization to the columns of A \n",
      "\n",
      "Step-1: Find Q using Gram Schmidt Orthonormalization\n",
      "\n",
      "Input vectors: \n"
     ]
    },
    {
     "data": {
      "image/png": "[encoded data removed]",
      "text/latex": [
       "$\\displaystyle a_{1} = \\left[\\begin{matrix}1\\\\1\\\\1\\\\1\\end{matrix}\\right]$"
      ],
      "text/plain": [
       "     ⎡1⎤\n",
       "     ⎢ ⎥\n",
       "     ⎢1⎥\n",
       "a₁ = ⎢ ⎥\n",
       "     ⎢1⎥\n",
       "     ⎢ ⎥\n",
       "     ⎣1⎦"
      ]
     },
     "metadata": {},
     "output_type": "display_data"
    },
    {
     "data": {
      "image/png": "[encoded data removed]",
      "text/latex": [
       "$\\displaystyle a_{2} = \\left[\\begin{matrix}0\\\\1\\\\1\\\\1\\end{matrix}\\right]$"
      ],
      "text/plain": [
       "     ⎡0⎤\n",
       "     ⎢ ⎥\n",
       "     ⎢1⎥\n",
       "a₂ = ⎢ ⎥\n",
       "     ⎢1⎥\n",
       "     ⎢ ⎥\n",
       "     ⎣1⎦"
      ]
     },
     "metadata": {},
     "output_type": "display_data"
    },
    {
     "data": {
      "image/png": "[encoded data removed]",
      "text/latex": [
       "$\\displaystyle a_{3} = \\left[\\begin{matrix}0\\\\0\\\\1\\\\1\\end{matrix}\\right]$"
      ],
      "text/plain": [
       "     ⎡0⎤\n",
       "     ⎢ ⎥\n",
       "     ⎢0⎥\n",
       "a₃ = ⎢ ⎥\n",
       "     ⎢1⎥\n",
       "     ⎢ ⎥\n",
       "     ⎣1⎦"
      ]
     },
     "metadata": {},
     "output_type": "display_data"
    },
    {
     "name": "stdout",
     "output_type": "stream",
     "text": [
      "\n",
      "\n",
      "Initiating Gram Schmidt Orthonormalization to find Orthonornal vectors q\n",
      "\n",
      "\n"
     ]
    },
    {
     "data": {
      "image/png": "[encoded data removed]",
      "text/latex": [
       "$\\displaystyle q_{1} = a_{1}$"
      ],
      "text/plain": [
       "q₁ = a₁"
      ]
     },
     "metadata": {},
     "output_type": "display_data"
    },
    {
     "data": {
      "image/png": "[encoded data removed]",
      "text/latex": [
       "$\\displaystyle q_{1} = \\left[\\begin{matrix}1\\\\1\\\\1\\\\1\\end{matrix}\\right]$"
      ],
      "text/plain": [
       "     ⎡1⎤\n",
       "     ⎢ ⎥\n",
       "     ⎢1⎥\n",
       "q₁ = ⎢ ⎥\n",
       "     ⎢1⎥\n",
       "     ⎢ ⎥\n",
       "     ⎣1⎦"
      ]
     },
     "metadata": {},
     "output_type": "display_data"
    },
    {
     "data": {
      "image/png": "[encoded data removed]",
      "text/latex": [
       "$\\displaystyle q_{1} = \\left[\\begin{matrix}1.0\\\\1.0\\\\1.0\\\\1.0\\end{matrix}\\right]$"
      ],
      "text/plain": [
       "     ⎡1.0⎤\n",
       "     ⎢   ⎥\n",
       "     ⎢1.0⎥\n",
       "q₁ = ⎢   ⎥\n",
       "     ⎢1.0⎥\n",
       "     ⎢   ⎥\n",
       "     ⎣1.0⎦"
      ]
     },
     "metadata": {},
     "output_type": "display_data"
    },
    {
     "name": "stdout",
     "output_type": "stream",
     "text": [
      "Normalizing the vector\n"
     ]
    },
    {
     "data": {
      "image/png": "[encoded data removed]",
      "text/latex": [
       "$\\displaystyle q_{1} = \\left[\\begin{matrix}\\frac{1}{2}\\\\\\frac{1}{2}\\\\\\frac{1}{2}\\\\\\frac{1}{2}\\end{matrix}\\right]$"
      ],
      "text/plain": [
       "     ⎡1/2⎤\n",
       "     ⎢   ⎥\n",
       "     ⎢1/2⎥\n",
       "q₁ = ⎢   ⎥\n",
       "     ⎢1/2⎥\n",
       "     ⎢   ⎥\n",
       "     ⎣1/2⎦"
      ]
     },
     "metadata": {},
     "output_type": "display_data"
    },
    {
     "data": {
      "image/png": "[encoded data removed]",
      "text/latex": [
       "$\\displaystyle q_{1} = \\left[\\begin{matrix}0.5\\\\0.5\\\\0.5\\\\0.5\\end{matrix}\\right]$"
      ],
      "text/plain": [
       "     ⎡0.5⎤\n",
       "     ⎢   ⎥\n",
       "     ⎢0.5⎥\n",
       "q₁ = ⎢   ⎥\n",
       "     ⎢0.5⎥\n",
       "     ⎢   ⎥\n",
       "     ⎣0.5⎦"
      ]
     },
     "metadata": {},
     "output_type": "display_data"
    },
    {
     "data": {
      "image/png": "[encoded data removed]",
      "text/latex": [
       "$\\displaystyle q_{2} = a_{2} - \\frac{q_{1} \\left\\langle a_{2} \\right. {\\left|q_{1}\\right\\rangle }}{\\left\\langle q_{1} \\right. {\\left|q_{1}\\right\\rangle }}$"
      ],
      "text/plain": [
       "          q₁⋅⟨a₂❘q₁⟩\n",
       "q₂ = a₂ - ──────────\n",
       "           ⟨q₁❘q₁⟩  "
      ]
     },
     "metadata": {},
     "output_type": "display_data"
    },
    {
     "data": {
      "image/png": "[encoded data removed]",
      "text/latex": [
       "$\\displaystyle q_{2} = \\left[\\begin{matrix}- \\frac{3}{4}\\\\\\frac{1}{4}\\\\\\frac{1}{4}\\\\\\frac{1}{4}\\end{matrix}\\right]$"
      ],
      "text/plain": [
       "     ⎡-3/4⎤\n",
       "     ⎢    ⎥\n",
       "     ⎢1/4 ⎥\n",
       "q₂ = ⎢    ⎥\n",
       "     ⎢1/4 ⎥\n",
       "     ⎢    ⎥\n",
       "     ⎣1/4 ⎦"
      ]
     },
     "metadata": {},
     "output_type": "display_data"
    },
    {
     "data": {
      "image/png": "[encoded data removed]",
      "text/latex": [
       "$\\displaystyle q_{2} = \\left[\\begin{matrix}-0.75\\\\0.25\\\\0.25\\\\0.25\\end{matrix}\\right]$"
      ],
      "text/plain": [
       "     ⎡-0.75⎤\n",
       "     ⎢     ⎥\n",
       "     ⎢0.25 ⎥\n",
       "q₂ = ⎢     ⎥\n",
       "     ⎢0.25 ⎥\n",
       "     ⎢     ⎥\n",
       "     ⎣0.25 ⎦"
      ]
     },
     "metadata": {},
     "output_type": "display_data"
    },
    {
     "name": "stdout",
     "output_type": "stream",
     "text": [
      "Normalizing the vector\n"
     ]
    },
    {
     "data": {
      "image/png": "[encoded data removed]",
      "text/latex": [
       "$\\displaystyle q_{2} = \\left[\\begin{matrix}- \\frac{\\sqrt{3}}{2}\\\\\\frac{\\sqrt{3}}{6}\\\\\\frac{\\sqrt{3}}{6}\\\\\\frac{\\sqrt{3}}{6}\\end{matrix}\\right]$"
      ],
      "text/plain": [
       "     ⎡-√3 ⎤\n",
       "     ⎢────⎥\n",
       "     ⎢ 2  ⎥\n",
       "     ⎢    ⎥\n",
       "     ⎢ √3 ⎥\n",
       "     ⎢ ── ⎥\n",
       "     ⎢ 6  ⎥\n",
       "q₂ = ⎢    ⎥\n",
       "     ⎢ √3 ⎥\n",
       "     ⎢ ── ⎥\n",
       "     ⎢ 6  ⎥\n",
       "     ⎢    ⎥\n",
       "     ⎢ √3 ⎥\n",
       "     ⎢ ── ⎥\n",
       "     ⎣ 6  ⎦"
      ]
     },
     "metadata": {},
     "output_type": "display_data"
    },
    {
     "data": {
      "image/png": "[encoded data removed]",
      "text/latex": [
       "$\\displaystyle q_{2} = \\left[\\begin{matrix}-0.866025403784439\\\\0.288675134594813\\\\0.288675134594813\\\\0.288675134594813\\end{matrix}\\right]$"
      ],
      "text/plain": [
       "     ⎡-0.866025403784439⎤\n",
       "     ⎢                  ⎥\n",
       "     ⎢0.288675134594813 ⎥\n",
       "q₂ = ⎢                  ⎥\n",
       "     ⎢0.288675134594813 ⎥\n",
       "     ⎢                  ⎥\n",
       "     ⎣0.288675134594813 ⎦"
      ]
     },
     "metadata": {},
     "output_type": "display_data"
    },
    {
     "data": {
      "image/png": "[encoded data removed]",
      "text/latex": [
       "$\\displaystyle q_{3} = a_{3} - \\frac{q_{1} \\left\\langle a_{3} \\right. {\\left|q_{1}\\right\\rangle }}{\\left\\langle q_{1} \\right. {\\left|q_{1}\\right\\rangle }} - \\frac{q_{2} \\left\\langle a_{3} \\right. {\\left|q_{2}\\right\\rangle }}{\\left\\langle q_{2} \\right. {\\left|q_{2}\\right\\rangle }}$"
      ],
      "text/plain": [
       "          q₁⋅⟨a₃❘q₁⟩   q₂⋅⟨a₃❘q₂⟩\n",
       "q₃ = a₃ - ────────── - ──────────\n",
       "           ⟨q₁❘q₁⟩      ⟨q₂❘q₂⟩  "
      ]
     },
     "metadata": {},
     "output_type": "display_data"
    },
    {
     "data": {
      "image/png": "[encoded data removed]",
      "text/latex": [
       "$\\displaystyle q_{3} = \\left[\\begin{matrix}0\\\\- \\frac{2}{3}\\\\\\frac{1}{3}\\\\\\frac{1}{3}\\end{matrix}\\right]$"
      ],
      "text/plain": [
       "     ⎡ 0  ⎤\n",
       "     ⎢    ⎥\n",
       "     ⎢-2/3⎥\n",
       "q₃ = ⎢    ⎥\n",
       "     ⎢1/3 ⎥\n",
       "     ⎢    ⎥\n",
       "     ⎣1/3 ⎦"
      ]
     },
     "metadata": {},
     "output_type": "display_data"
    },
    {
     "data": {
      "image/png": "[encoded data removed]",
      "text/latex": [
       "$\\displaystyle q_{3} = \\left[\\begin{matrix}1.11022302462516 \\cdot 10^{-16}\\\\-0.666666666666667\\\\0.333333333333333\\\\0.333333333333333\\end{matrix}\\right]$"
      ],
      "text/plain": [
       "     ⎡1.11022302462516e-16⎤\n",
       "     ⎢                    ⎥\n",
       "     ⎢ -0.666666666666667 ⎥\n",
       "q₃ = ⎢                    ⎥\n",
       "     ⎢ 0.333333333333333  ⎥\n",
       "     ⎢                    ⎥\n",
       "     ⎣ 0.333333333333333  ⎦"
      ]
     },
     "metadata": {},
     "output_type": "display_data"
    },
    {
     "name": "stdout",
     "output_type": "stream",
     "text": [
      "Normalizing the vector\n"
     ]
    },
    {
     "data": {
      "image/png": "[encoded data removed]",
      "text/latex": [
       "$\\displaystyle q_{3} = \\left[\\begin{matrix}0\\\\- \\frac{\\sqrt{6}}{3}\\\\\\frac{\\sqrt{6}}{6}\\\\\\frac{\\sqrt{6}}{6}\\end{matrix}\\right]$"
      ],
      "text/plain": [
       "     ⎡ 0  ⎤\n",
       "     ⎢    ⎥\n",
       "     ⎢-√6 ⎥\n",
       "     ⎢────⎥\n",
       "     ⎢ 3  ⎥\n",
       "     ⎢    ⎥\n",
       "q₃ = ⎢ √6 ⎥\n",
       "     ⎢ ── ⎥\n",
       "     ⎢ 6  ⎥\n",
       "     ⎢    ⎥\n",
       "     ⎢ √6 ⎥\n",
       "     ⎢ ── ⎥\n",
       "     ⎣ 6  ⎦"
      ]
     },
     "metadata": {},
     "output_type": "display_data"
    },
    {
     "data": {
      "image/png": "[encoded data removed]",
      "text/latex": [
       "$\\displaystyle q_{3} = \\left[\\begin{matrix}1.35973995551052 \\cdot 10^{-16}\\\\-0.816496580927726\\\\0.408248290463863\\\\0.408248290463863\\end{matrix}\\right]$"
      ],
      "text/plain": [
       "     ⎡1.35973995551052e-16⎤\n",
       "     ⎢                    ⎥\n",
       "     ⎢ -0.816496580927726 ⎥\n",
       "q₃ = ⎢                    ⎥\n",
       "     ⎢ 0.408248290463863  ⎥\n",
       "     ⎢                    ⎥\n",
       "     ⎣ 0.408248290463863  ⎦"
      ]
     },
     "metadata": {},
     "output_type": "display_data"
    },
    {
     "name": "stdout",
     "output_type": "stream",
     "text": [
      "\n",
      "\n",
      "The orthonormal vectors are:\n",
      "\n"
     ]
    },
    {
     "data": {
      "image/png": "[encoded data removed]",
      "text/latex": [
       "$\\displaystyle q_{1} = \\left[\\begin{matrix}\\frac{1}{2}\\\\\\frac{1}{2}\\\\\\frac{1}{2}\\\\\\frac{1}{2}\\end{matrix}\\right]$"
      ],
      "text/plain": [
       "     ⎡1/2⎤\n",
       "     ⎢   ⎥\n",
       "     ⎢1/2⎥\n",
       "q₁ = ⎢   ⎥\n",
       "     ⎢1/2⎥\n",
       "     ⎢   ⎥\n",
       "     ⎣1/2⎦"
      ]
     },
     "metadata": {},
     "output_type": "display_data"
    },
    {
     "data": {
      "image/png": "[encoded data removed]",
      "text/latex": [
       "$\\displaystyle q_{2} = \\left[\\begin{matrix}- \\frac{\\sqrt{3}}{2}\\\\\\frac{\\sqrt{3}}{6}\\\\\\frac{\\sqrt{3}}{6}\\\\\\frac{\\sqrt{3}}{6}\\end{matrix}\\right]$"
      ],
      "text/plain": [
       "     ⎡-√3 ⎤\n",
       "     ⎢────⎥\n",
       "     ⎢ 2  ⎥\n",
       "     ⎢    ⎥\n",
       "     ⎢ √3 ⎥\n",
       "     ⎢ ── ⎥\n",
       "     ⎢ 6  ⎥\n",
       "q₂ = ⎢    ⎥\n",
       "     ⎢ √3 ⎥\n",
       "     ⎢ ── ⎥\n",
       "     ⎢ 6  ⎥\n",
       "     ⎢    ⎥\n",
       "     ⎢ √3 ⎥\n",
       "     ⎢ ── ⎥\n",
       "     ⎣ 6  ⎦"
      ]
     },
     "metadata": {},
     "output_type": "display_data"
    },
    {
     "data": {
      "image/png": "[encoded data removed]",
      "text/latex": [
       "$\\displaystyle q_{3} = \\left[\\begin{matrix}0\\\\- \\frac{\\sqrt{6}}{3}\\\\\\frac{\\sqrt{6}}{6}\\\\\\frac{\\sqrt{6}}{6}\\end{matrix}\\right]$"
      ],
      "text/plain": [
       "     ⎡ 0  ⎤\n",
       "     ⎢    ⎥\n",
       "     ⎢-√6 ⎥\n",
       "     ⎢────⎥\n",
       "     ⎢ 3  ⎥\n",
       "     ⎢    ⎥\n",
       "q₃ = ⎢ √6 ⎥\n",
       "     ⎢ ── ⎥\n",
       "     ⎢ 6  ⎥\n",
       "     ⎢    ⎥\n",
       "     ⎢ √6 ⎥\n",
       "     ⎢ ── ⎥\n",
       "     ⎣ 6  ⎦"
      ]
     },
     "metadata": {},
     "output_type": "display_data"
    },
    {
     "data": {
      "image/png": "[encoded data removed]",
      "text/latex": [
       "$\\displaystyle Q = \\left[\\begin{matrix}\\frac{1}{2} & - \\frac{\\sqrt{3}}{2} & 0\\\\\\frac{1}{2} & \\frac{\\sqrt{3}}{6} & - \\frac{\\sqrt{6}}{3}\\\\\\frac{1}{2} & \\frac{\\sqrt{3}}{6} & \\frac{\\sqrt{6}}{6}\\\\\\frac{1}{2} & \\frac{\\sqrt{3}}{6} & \\frac{\\sqrt{6}}{6}\\end{matrix}\\right]$"
      ],
      "text/plain": [
       "    ⎡     -√3       ⎤\n",
       "    ⎢1/2  ────   0  ⎥\n",
       "    ⎢      2        ⎥\n",
       "    ⎢               ⎥\n",
       "    ⎢      √3   -√6 ⎥\n",
       "    ⎢1/2   ──   ────⎥\n",
       "    ⎢      6     3  ⎥\n",
       "Q = ⎢               ⎥\n",
       "    ⎢      √3    √6 ⎥\n",
       "    ⎢1/2   ──    ── ⎥\n",
       "    ⎢      6     6  ⎥\n",
       "    ⎢               ⎥\n",
       "    ⎢      √3    √6 ⎥\n",
       "    ⎢1/2   ──    ── ⎥\n",
       "    ⎣      6     6  ⎦"
      ]
     },
     "metadata": {},
     "output_type": "display_data"
    },
    {
     "name": "stdout",
     "output_type": "stream",
     "text": [
      "\n",
      "Step-1: Use Q to get R\n",
      "\n"
     ]
    },
    {
     "data": {
      "image/png": "[encoded data removed]",
      "text/latex": [
       "$\\displaystyle A = Q R$"
      ],
      "text/plain": [
       "A = Q⋅R"
      ]
     },
     "metadata": {},
     "output_type": "display_data"
    },
    {
     "data": {
      "image/png": "[encoded data removed]",
      "text/latex": [
       "$\\displaystyle Q^{T} A = Q^{T} Q R$"
      ],
      "text/plain": [
       " T      T    \n",
       "Q ⋅A = Q ⋅Q⋅R"
      ]
     },
     "metadata": {},
     "output_type": "display_data"
    },
    {
     "data": {
      "image/png": "[encoded data removed]",
      "text/latex": [
       "$\\displaystyle Q^{T} A = I R$"
      ],
      "text/plain": [
       " T        \n",
       "Q ⋅A = I⋅R"
      ]
     },
     "metadata": {},
     "output_type": "display_data"
    },
    {
     "data": {
      "image/png": "[encoded data removed]",
      "text/latex": [
       "$\\displaystyle R = Q^{T} A$"
      ],
      "text/plain": [
       "     T  \n",
       "R = Q ⋅A"
      ]
     },
     "metadata": {},
     "output_type": "display_data"
    },
    {
     "data": {
      "image/png": "[encoded data removed]",
      "text/latex": [
       "$\\displaystyle R = \\left(\\left[\\begin{matrix}\\frac{1}{2} & - \\frac{\\sqrt{3}}{2} & 0\\\\\\frac{1}{2} & \\frac{\\sqrt{3}}{6} & - \\frac{\\sqrt{6}}{3}\\\\\\frac{1}{2} & \\frac{\\sqrt{3}}{6} & \\frac{\\sqrt{6}}{6}\\\\\\frac{1}{2} & \\frac{\\sqrt{3}}{6} & \\frac{\\sqrt{6}}{6}\\end{matrix}\\right]\\right)^{T} \\left[\\begin{matrix}1 & 0 & 0\\\\1 & 1 & 0\\\\1 & 1 & 1\\\\1 & 1 & 1\\end{matrix}\\right]$"
      ],
      "text/plain": [
       "                       T          \n",
       "    ⎛⎡     -√3       ⎤⎞           \n",
       "    ⎜⎢1/2  ────   0  ⎥⎟           \n",
       "    ⎜⎢      2        ⎥⎟           \n",
       "    ⎜⎢               ⎥⎟           \n",
       "    ⎜⎢      √3   -√6 ⎥⎟  ⎡1  0  0⎤\n",
       "    ⎜⎢1/2   ──   ────⎥⎟  ⎢       ⎥\n",
       "    ⎜⎢      6     3  ⎥⎟  ⎢1  1  0⎥\n",
       "R = ⎜⎢               ⎥⎟ ⋅⎢       ⎥\n",
       "    ⎜⎢      √3    √6 ⎥⎟  ⎢1  1  1⎥\n",
       "    ⎜⎢1/2   ──    ── ⎥⎟  ⎢       ⎥\n",
       "    ⎜⎢      6     6  ⎥⎟  ⎣1  1  1⎦\n",
       "    ⎜⎢               ⎥⎟           \n",
       "    ⎜⎢      √3    √6 ⎥⎟           \n",
       "    ⎜⎢1/2   ──    ── ⎥⎟           \n",
       "    ⎝⎣      6     6  ⎦⎠           "
      ]
     },
     "metadata": {},
     "output_type": "display_data"
    },
    {
     "data": {
      "image/png": "[encoded data removed]",
      "text/latex": [
       "$\\displaystyle R = \\left[\\begin{matrix}2 & \\frac{3}{2} & 1\\\\0 & \\frac{\\sqrt{3}}{2} & \\frac{\\sqrt{3}}{3}\\\\0 & 0 & \\frac{\\sqrt{6}}{3}\\end{matrix}\\right]$"
      ],
      "text/plain": [
       "    ⎡2  3/2  1 ⎤\n",
       "    ⎢          ⎥\n",
       "    ⎢   √3   √3⎥\n",
       "    ⎢0  ──   ──⎥\n",
       "R = ⎢   2    3 ⎥\n",
       "    ⎢          ⎥\n",
       "    ⎢        √6⎥\n",
       "    ⎢0   0   ──⎥\n",
       "    ⎣        3 ⎦"
      ]
     },
     "metadata": {},
     "output_type": "display_data"
    }
   ],
   "source": [
    "a = [[1,0,0,],[1,1,0],[1,1,1],[1,1,1]]\n",
    "lsf.get_linear_system(system_type='qr_factorization').solve(a = a)"
   ]
  },
  {
   "cell_type": "code",
   "execution_count": 4,
   "id": "bb4f2a41",
   "metadata": {},
   "outputs": [
    {
     "name": "stdout",
     "output_type": "stream",
     "text": [
      "Input vectors: \n"
     ]
    },
    {
     "data": {
      "image/png": "[encoded data removed]",
      "text/latex": [
       "$\\displaystyle a_{1} = \\left[\\begin{matrix}2\\\\4\\\\-6\\end{matrix}\\right]$"
      ],
      "text/plain": [
       "     ⎡2 ⎤\n",
       "     ⎢  ⎥\n",
       "a₁ = ⎢4 ⎥\n",
       "     ⎢  ⎥\n",
       "     ⎣-6⎦"
      ]
     },
     "metadata": {},
     "output_type": "display_data"
    },
    {
     "data": {
      "image/png": "[encoded data removed]",
      "text/latex": [
       "$\\displaystyle a_{2} = \\left[\\begin{matrix}1\\\\5\\\\3\\end{matrix}\\right]$"
      ],
      "text/plain": [
       "     ⎡1⎤\n",
       "     ⎢ ⎥\n",
       "a₂ = ⎢5⎥\n",
       "     ⎢ ⎥\n",
       "     ⎣3⎦"
      ]
     },
     "metadata": {},
     "output_type": "display_data"
    },
    {
     "data": {
      "image/png": "[encoded data removed]",
      "text/latex": [
       "$\\displaystyle a_{3} = \\left[\\begin{matrix}1\\\\3\\\\2\\end{matrix}\\right]$"
      ],
      "text/plain": [
       "     ⎡1⎤\n",
       "     ⎢ ⎥\n",
       "a₃ = ⎢3⎥\n",
       "     ⎢ ⎥\n",
       "     ⎣2⎦"
      ]
     },
     "metadata": {},
     "output_type": "display_data"
    },
    {
     "name": "stdout",
     "output_type": "stream",
     "text": [
      "\n",
      "\n",
      "Initiating Gram Schmidt Orthonormalization to find Orthonornal vectors v\n",
      "\n",
      "\n"
     ]
    },
    {
     "data": {
      "image/png": "[encoded data removed]",
      "text/latex": [
       "$\\displaystyle q_{1} = a_{1}$"
      ],
      "text/plain": [
       "q₁ = a₁"
      ]
     },
     "metadata": {},
     "output_type": "display_data"
    },
    {
     "data": {
      "image/png": "[encoded data removed]",
      "text/latex": [
       "$\\displaystyle q_{1} = \\left[\\begin{matrix}2\\\\4\\\\-6\\end{matrix}\\right]$"
      ],
      "text/plain": [
       "     ⎡2 ⎤\n",
       "     ⎢  ⎥\n",
       "q₁ = ⎢4 ⎥\n",
       "     ⎢  ⎥\n",
       "     ⎣-6⎦"
      ]
     },
     "metadata": {},
     "output_type": "display_data"
    },
    {
     "data": {
      "image/png": "[encoded data removed]",
      "text/latex": [
       "$\\displaystyle q_{1} = \\left[\\begin{matrix}2.0\\\\4.0\\\\-6.0\\end{matrix}\\right]$"
      ],
      "text/plain": [
       "     ⎡2.0 ⎤\n",
       "     ⎢    ⎥\n",
       "q₁ = ⎢4.0 ⎥\n",
       "     ⎢    ⎥\n",
       "     ⎣-6.0⎦"
      ]
     },
     "metadata": {},
     "output_type": "display_data"
    },
    {
     "name": "stdout",
     "output_type": "stream",
     "text": [
      "Normalizing the vector\n"
     ]
    },
    {
     "data": {
      "image/png": "[encoded data removed]",
      "text/latex": [
       "$\\displaystyle q_{1} = \\left[\\begin{matrix}\\frac{\\sqrt{14}}{14}\\\\\\frac{\\sqrt{14}}{7}\\\\- \\frac{3 \\sqrt{14}}{14}\\end{matrix}\\right]$"
      ],
      "text/plain": [
       "     ⎡  √14  ⎤\n",
       "     ⎢  ───  ⎥\n",
       "     ⎢   14  ⎥\n",
       "     ⎢       ⎥\n",
       "     ⎢  √14  ⎥\n",
       "q₁ = ⎢  ───  ⎥\n",
       "     ⎢   7   ⎥\n",
       "     ⎢       ⎥\n",
       "     ⎢-3⋅√14 ⎥\n",
       "     ⎢───────⎥\n",
       "     ⎣   14  ⎦"
      ]
     },
     "metadata": {},
     "output_type": "display_data"
    },
    {
     "data": {
      "image/png": "[encoded data removed]",
      "text/latex": [
       "$\\displaystyle q_{1} = \\left[\\begin{matrix}0.267261241912424\\\\0.534522483824849\\\\-0.801783725737273\\end{matrix}\\right]$"
      ],
      "text/plain": [
       "     ⎡0.267261241912424 ⎤\n",
       "     ⎢                  ⎥\n",
       "q₁ = ⎢0.534522483824849 ⎥\n",
       "     ⎢                  ⎥\n",
       "     ⎣-0.801783725737273⎦"
      ]
     },
     "metadata": {},
     "output_type": "display_data"
    },
    {
     "data": {
      "image/png": "[encoded data removed]",
      "text/latex": [
       "$\\displaystyle q_{2} = a_{2} - \\frac{q_{1} \\left\\langle a_{2} \\right. {\\left|q_{1}\\right\\rangle }}{\\left\\langle q_{1} \\right. {\\left|q_{1}\\right\\rangle }}$"
      ],
      "text/plain": [
       "          q₁⋅⟨a₂❘q₁⟩\n",
       "q₂ = a₂ - ──────────\n",
       "           ⟨q₁❘q₁⟩  "
      ]
     },
     "metadata": {},
     "output_type": "display_data"
    },
    {
     "data": {
      "image/png": "[encoded data removed]",
      "text/latex": [
       "$\\displaystyle q_{2} = \\left[\\begin{matrix}\\frac{6}{7}\\\\\\frac{33}{7}\\\\\\frac{24}{7}\\end{matrix}\\right]$"
      ],
      "text/plain": [
       "     ⎡6/7 ⎤\n",
       "     ⎢    ⎥\n",
       "q₂ = ⎢33/7⎥\n",
       "     ⎢    ⎥\n",
       "     ⎣24/7⎦"
      ]
     },
     "metadata": {},
     "output_type": "display_data"
    },
    {
     "data": {
      "image/png": "[encoded data removed]",
      "text/latex": [
       "$\\displaystyle q_{2} = \\left[\\begin{matrix}0.857142857142857\\\\4.71428571428571\\\\3.42857142857143\\end{matrix}\\right]$"
      ],
      "text/plain": [
       "     ⎡0.857142857142857⎤\n",
       "     ⎢                 ⎥\n",
       "q₂ = ⎢4.71428571428571 ⎥\n",
       "     ⎢                 ⎥\n",
       "     ⎣3.42857142857143 ⎦"
      ]
     },
     "metadata": {},
     "output_type": "display_data"
    },
    {
     "name": "stdout",
     "output_type": "stream",
     "text": [
      "Normalizing the vector\n"
     ]
    },
    {
     "data": {
      "image/png": "[encoded data removed]",
      "text/latex": [
       "$\\displaystyle q_{2} = \\left[\\begin{matrix}\\frac{2 \\sqrt{21}}{63}\\\\\\frac{11 \\sqrt{21}}{63}\\\\\\frac{8 \\sqrt{21}}{63}\\end{matrix}\\right]$"
      ],
      "text/plain": [
       "     ⎡2⋅√21 ⎤\n",
       "     ⎢───── ⎥\n",
       "     ⎢  63  ⎥\n",
       "     ⎢      ⎥\n",
       "     ⎢11⋅√21⎥\n",
       "q₂ = ⎢──────⎥\n",
       "     ⎢  63  ⎥\n",
       "     ⎢      ⎥\n",
       "     ⎢8⋅√21 ⎥\n",
       "     ⎢───── ⎥\n",
       "     ⎣  63  ⎦"
      ]
     },
     "metadata": {},
     "output_type": "display_data"
    },
    {
     "data": {
      "image/png": "[encoded data removed]",
      "text/latex": [
       "$\\displaystyle q_{2} = \\left[\\begin{matrix}0.145478593490662\\\\0.800132264198639\\\\0.581914373962646\\end{matrix}\\right]$"
      ],
      "text/plain": [
       "     ⎡0.145478593490662⎤\n",
       "     ⎢                 ⎥\n",
       "q₂ = ⎢0.800132264198639⎥\n",
       "     ⎢                 ⎥\n",
       "     ⎣0.581914373962646⎦"
      ]
     },
     "metadata": {},
     "output_type": "display_data"
    },
    {
     "data": {
      "image/png": "[encoded data removed]",
      "text/latex": [
       "$\\displaystyle q_{3} = a_{3} - \\frac{q_{1} \\left\\langle a_{3} \\right. {\\left|q_{1}\\right\\rangle }}{\\left\\langle q_{1} \\right. {\\left|q_{1}\\right\\rangle }} - \\frac{q_{2} \\left\\langle a_{3} \\right. {\\left|q_{2}\\right\\rangle }}{\\left\\langle q_{2} \\right. {\\left|q_{2}\\right\\rangle }}$"
      ],
      "text/plain": [
       "          q₁⋅⟨a₃❘q₁⟩   q₂⋅⟨a₃❘q₂⟩\n",
       "q₃ = a₃ - ────────── - ──────────\n",
       "           ⟨q₁❘q₁⟩      ⟨q₂❘q₂⟩  "
      ]
     },
     "metadata": {},
     "output_type": "display_data"
    },
    {
     "data": {
      "image/png": "[encoded data removed]",
      "text/latex": [
       "$\\displaystyle q_{3} = \\left[\\begin{matrix}\\frac{7}{18}\\\\- \\frac{1}{9}\\\\\\frac{1}{18}\\end{matrix}\\right]$"
      ],
      "text/plain": [
       "     ⎡7/18⎤\n",
       "     ⎢    ⎥\n",
       "q₃ = ⎢-1/9⎥\n",
       "     ⎢    ⎥\n",
       "     ⎣1/18⎦"
      ]
     },
     "metadata": {},
     "output_type": "display_data"
    },
    {
     "data": {
      "image/png": "[encoded data removed]",
      "text/latex": [
       "$\\displaystyle q_{3} = \\left[\\begin{matrix}0.388888888888889\\\\-0.111111111111111\\\\0.0555555555555554\\end{matrix}\\right]$"
      ],
      "text/plain": [
       "     ⎡0.388888888888889 ⎤\n",
       "     ⎢                  ⎥\n",
       "q₃ = ⎢-0.111111111111111⎥\n",
       "     ⎢                  ⎥\n",
       "     ⎣0.0555555555555554⎦"
      ]
     },
     "metadata": {},
     "output_type": "display_data"
    },
    {
     "name": "stdout",
     "output_type": "stream",
     "text": [
      "Normalizing the vector\n"
     ]
    },
    {
     "data": {
      "image/png": "[encoded data removed]",
      "text/latex": [
       "$\\displaystyle q_{3} = \\left[\\begin{matrix}\\frac{7 \\sqrt{6}}{18}\\\\- \\frac{\\sqrt{6}}{9}\\\\\\frac{\\sqrt{6}}{18}\\end{matrix}\\right]$"
      ],
      "text/plain": [
       "     ⎡7⋅√6⎤\n",
       "     ⎢────⎥\n",
       "     ⎢ 18 ⎥\n",
       "     ⎢    ⎥\n",
       "     ⎢-√6 ⎥\n",
       "q₃ = ⎢────⎥\n",
       "     ⎢ 9  ⎥\n",
       "     ⎢    ⎥\n",
       "     ⎢ √6 ⎥\n",
       "     ⎢ ── ⎥\n",
       "     ⎣ 18 ⎦"
      ]
     },
     "metadata": {},
     "output_type": "display_data"
    },
    {
     "data": {
      "image/png": "[encoded data removed]",
      "text/latex": [
       "$\\displaystyle q_{3} = \\left[\\begin{matrix}0.95257934441568\\\\-0.272165526975909\\\\0.136082763487954\\end{matrix}\\right]$"
      ],
      "text/plain": [
       "     ⎡ 0.95257934441568 ⎤\n",
       "     ⎢                  ⎥\n",
       "q₃ = ⎢-0.272165526975909⎥\n",
       "     ⎢                  ⎥\n",
       "     ⎣0.136082763487954 ⎦"
      ]
     },
     "metadata": {},
     "output_type": "display_data"
    },
    {
     "name": "stdout",
     "output_type": "stream",
     "text": [
      "\n",
      "\n",
      "The orthonormal vectors are:\n",
      "\n"
     ]
    },
    {
     "data": {
      "image/png": "[encoded data removed]",
      "text/latex": [
       "$\\displaystyle q_{1} = \\left[\\begin{matrix}\\frac{\\sqrt{14}}{14}\\\\\\frac{\\sqrt{14}}{7}\\\\- \\frac{3 \\sqrt{14}}{14}\\end{matrix}\\right]$"
      ],
      "text/plain": [
       "     ⎡  √14  ⎤\n",
       "     ⎢  ───  ⎥\n",
       "     ⎢   14  ⎥\n",
       "     ⎢       ⎥\n",
       "     ⎢  √14  ⎥\n",
       "q₁ = ⎢  ───  ⎥\n",
       "     ⎢   7   ⎥\n",
       "     ⎢       ⎥\n",
       "     ⎢-3⋅√14 ⎥\n",
       "     ⎢───────⎥\n",
       "     ⎣   14  ⎦"
      ]
     },
     "metadata": {},
     "output_type": "display_data"
    },
    {
     "data": {
      "image/png": "[encoded data removed]",
      "text/latex": [
       "$\\displaystyle q_{2} = \\left[\\begin{matrix}\\frac{2 \\sqrt{21}}{63}\\\\\\frac{11 \\sqrt{21}}{63}\\\\\\frac{8 \\sqrt{21}}{63}\\end{matrix}\\right]$"
      ],
      "text/plain": [
       "     ⎡2⋅√21 ⎤\n",
       "     ⎢───── ⎥\n",
       "     ⎢  63  ⎥\n",
       "     ⎢      ⎥\n",
       "     ⎢11⋅√21⎥\n",
       "q₂ = ⎢──────⎥\n",
       "     ⎢  63  ⎥\n",
       "     ⎢      ⎥\n",
       "     ⎢8⋅√21 ⎥\n",
       "     ⎢───── ⎥\n",
       "     ⎣  63  ⎦"
      ]
     },
     "metadata": {},
     "output_type": "display_data"
    },
    {
     "data": {
      "image/png": "[encoded data removed]",
      "text/latex": [
       "$\\displaystyle q_{3} = \\left[\\begin{matrix}\\frac{7 \\sqrt{6}}{18}\\\\- \\frac{\\sqrt{6}}{9}\\\\\\frac{\\sqrt{6}}{18}\\end{matrix}\\right]$"
      ],
      "text/plain": [
       "     ⎡7⋅√6⎤\n",
       "     ⎢────⎥\n",
       "     ⎢ 18 ⎥\n",
       "     ⎢    ⎥\n",
       "     ⎢-√6 ⎥\n",
       "q₃ = ⎢────⎥\n",
       "     ⎢ 9  ⎥\n",
       "     ⎢    ⎥\n",
       "     ⎢ √6 ⎥\n",
       "     ⎢ ── ⎥\n",
       "     ⎣ 18 ⎦"
      ]
     },
     "metadata": {},
     "output_type": "display_data"
    }
   ],
   "source": [
    "Q =lsf.get_linear_system(system_type='gram_schmidt_orthonormalization').solve(a = a)"
   ]
  },
  {
   "cell_type": "code",
   "execution_count": 5,
   "id": "3600eb47",
   "metadata": {},
   "outputs": [
    {
     "data": {
      "text/plain": [
       "array([[ 1.00000000e+00, -2.27004034e-16, -4.16601931e-16],\n",
       "       [-2.27004034e-16,  1.00000000e+00,  1.84324701e-17],\n",
       "       [-4.16601931e-16,  1.84324701e-17,  1.00000000e+00]])"
      ]
     },
     "execution_count": 5,
     "metadata": {},
     "output_type": "execute_result"
    }
   ],
   "source": [
    "Q.T@Q"
   ]
  },
  {
   "cell_type": "code",
   "execution_count": 4,
   "id": "45fa903e",
   "metadata": {},
   "outputs": [
    {
     "name": "stdout",
     "output_type": "stream",
     "text": [
      "Starting Dolittle method for LU decomposition\n",
      "Input Matrix A:\n",
      "\n"
     ]
    },
    {
     "data": {
      "image/png": "[encoded data removed]",
      "text/latex": [
       "$\\displaystyle \\left[\\begin{matrix}2 & 4 & -6\\\\1 & 5 & 3\\\\1 & 3 & 2\\end{matrix}\\right]$"
      ],
      "text/plain": [
       "⎡2  4  -6⎤\n",
       "⎢        ⎥\n",
       "⎢1  5  3 ⎥\n",
       "⎢        ⎥\n",
       "⎣1  3  2 ⎦"
      ]
     },
     "metadata": {},
     "output_type": "display_data"
    },
    {
     "name": "stdout",
     "output_type": "stream",
     "text": [
      "\n",
      "A = LU, where\n",
      "\n"
     ]
    },
    {
     "data": {
      "image/png": "[encoded data removed]",
      "text/latex": [
       "$\\displaystyle L = \\left[\\begin{matrix}1 & 0 & 0\\\\l_{1, 0} & 1 & 0\\\\l_{2, 0} & l_{2, 1} & 1\\end{matrix}\\right]$"
      ],
      "text/plain": [
       "    ⎡ 1    0   0⎤\n",
       "    ⎢           ⎥\n",
       "L = ⎢l₁₀   1   0⎥\n",
       "    ⎢           ⎥\n",
       "    ⎣l₂₀  l₂₁  1⎦"
      ]
     },
     "metadata": {},
     "output_type": "display_data"
    },
    {
     "name": "stdout",
     "output_type": "stream",
     "text": [
      "\n",
      "and\n",
      "\n"
     ]
    },
    {
     "data": {
      "image/png": "[encoded data removed]",
      "text/latex": [
       "$\\displaystyle U = \\left[\\begin{matrix}u_{0, 0} & u_{0, 1} & u_{0, 2}\\\\0 & u_{1, 1} & u_{1, 2}\\\\0 & 0 & u_{2, 2}\\end{matrix}\\right]$"
      ],
      "text/plain": [
       "    ⎡u₀₀  u₀₁  u₀₂⎤\n",
       "    ⎢             ⎥\n",
       "U = ⎢ 0   u₁₁  u₁₂⎥\n",
       "    ⎢             ⎥\n",
       "    ⎣ 0    0   u₂₂⎦"
      ]
     },
     "metadata": {},
     "output_type": "display_data"
    },
    {
     "data": {
      "image/png": "[encoded data removed]",
      "text/latex": [
       "$\\displaystyle L U = \\left[\\begin{matrix}1 & 0 & 0\\\\l_{1, 0} & 1 & 0\\\\l_{2, 0} & l_{2, 1} & 1\\end{matrix}\\right] \\left[\\begin{matrix}u_{0, 0} & u_{0, 1} & u_{0, 2}\\\\0 & u_{1, 1} & u_{1, 2}\\\\0 & 0 & u_{2, 2}\\end{matrix}\\right]$"
      ],
      "text/plain": [
       "      ⎡ 1    0   0⎤ ⎡u₀₀  u₀₁  u₀₂⎤\n",
       "      ⎢           ⎥ ⎢             ⎥\n",
       "L⋅U = ⎢l₁₀   1   0⎥⋅⎢ 0   u₁₁  u₁₂⎥\n",
       "      ⎢           ⎥ ⎢             ⎥\n",
       "      ⎣l₂₀  l₂₁  1⎦ ⎣ 0    0   u₂₂⎦"
      ]
     },
     "metadata": {},
     "output_type": "display_data"
    },
    {
     "name": "stdout",
     "output_type": "stream",
     "text": [
      "\n"
     ]
    },
    {
     "data": {
      "image/png": "[encoded data removed]",
      "text/latex": [
       "$\\displaystyle L U = \\left[\\begin{matrix}u_{0, 0} & u_{0, 1} & u_{0, 2}\\\\l_{1, 0} u_{0, 0} & l_{1, 0} u_{0, 1} + u_{1, 1} & l_{1, 0} u_{0, 2} + u_{1, 2}\\\\l_{2, 0} u_{0, 0} & l_{2, 0} u_{0, 1} + l_{2, 1} u_{1, 1} & l_{2, 0} u_{0, 2} + l_{2, 1} u_{1, 2} + u_{2, 2}\\end{matrix}\\right]$"
      ],
      "text/plain": [
       "      ⎡  u₀₀           u₀₁                   u₀₂          ⎤\n",
       "      ⎢                                                   ⎥\n",
       "L⋅U = ⎢l₁₀⋅u₀₀    l₁₀⋅u₀₁ + u₁₁         l₁₀⋅u₀₂ + u₁₂     ⎥\n",
       "      ⎢                                                   ⎥\n",
       "      ⎣l₂₀⋅u₀₀  l₂₀⋅u₀₁ + l₂₁⋅u₁₁  l₂₀⋅u₀₂ + l₂₁⋅u₁₂ + u₂₂⎦"
      ]
     },
     "metadata": {},
     "output_type": "display_data"
    },
    {
     "name": "stdout",
     "output_type": "stream",
     "text": [
      "\n",
      "On equating this with A, we get\n"
     ]
    },
    {
     "data": {
      "image/png": "[encoded data removed]",
      "text/latex": [
       "$\\displaystyle \\left[\\begin{matrix}2 & 4 & -6\\\\1 & 5 & 3\\\\1 & 3 & 2\\end{matrix}\\right] = \\left[\\begin{matrix}u_{0, 0} & u_{0, 1} & u_{0, 2}\\\\l_{1, 0} u_{0, 0} & l_{1, 0} u_{0, 1} + u_{1, 1} & l_{1, 0} u_{0, 2} + u_{1, 2}\\\\l_{2, 0} u_{0, 0} & l_{2, 0} u_{0, 1} + l_{2, 1} u_{1, 1} & l_{2, 0} u_{0, 2} + l_{2, 1} u_{1, 2} + u_{2, 2}\\end{matrix}\\right]$"
      ],
      "text/plain": [
       "⎡2  4  -6⎤   ⎡  u₀₀           u₀₁                   u₀₂          ⎤\n",
       "⎢        ⎥   ⎢                                                   ⎥\n",
       "⎢1  5  3 ⎥ = ⎢l₁₀⋅u₀₀    l₁₀⋅u₀₁ + u₁₁         l₁₀⋅u₀₂ + u₁₂     ⎥\n",
       "⎢        ⎥   ⎢                                                   ⎥\n",
       "⎣1  3  2 ⎦   ⎣l₂₀⋅u₀₀  l₂₀⋅u₀₁ + l₂₁⋅u₁₁  l₂₀⋅u₀₂ + l₂₁⋅u₁₂ + u₂₂⎦"
      ]
     },
     "metadata": {},
     "output_type": "display_data"
    },
    {
     "data": {
      "image/png": "[encoded data removed]",
      "text/latex": [
       "$\\displaystyle u_{0, 0} = 2$"
      ],
      "text/plain": [
       "u₀₀ = 2"
      ]
     },
     "metadata": {},
     "output_type": "display_data"
    },
    {
     "data": {
      "image/png": "[encoded data removed]",
      "text/latex": [
       "$\\displaystyle u_{0, 1} = 4$"
      ],
      "text/plain": [
       "u₀₁ = 4"
      ]
     },
     "metadata": {},
     "output_type": "display_data"
    },
    {
     "data": {
      "image/png": "[encoded data removed]",
      "text/latex": [
       "$\\displaystyle u_{0, 2} = -6$"
      ],
      "text/plain": [
       "u₀₂ = -6"
      ]
     },
     "metadata": {},
     "output_type": "display_data"
    },
    {
     "data": {
      "image/png": "[encoded data removed]",
      "text/latex": [
       "$\\displaystyle l_{1, 0} u_{0, 0} = 1$"
      ],
      "text/plain": [
       "l₁₀⋅u₀₀ = 1"
      ]
     },
     "metadata": {},
     "output_type": "display_data"
    },
    {
     "data": {
      "image/png": "[encoded data removed]",
      "text/latex": [
       "$\\displaystyle l_{1, 0} u_{0, 1} + u_{1, 1} = 5$"
      ],
      "text/plain": [
       "l₁₀⋅u₀₁ + u₁₁ = 5"
      ]
     },
     "metadata": {},
     "output_type": "display_data"
    },
    {
     "data": {
      "image/png": "[encoded data removed]",
      "text/latex": [
       "$\\displaystyle l_{1, 0} u_{0, 2} + u_{1, 2} = 3$"
      ],
      "text/plain": [
       "l₁₀⋅u₀₂ + u₁₂ = 3"
      ]
     },
     "metadata": {},
     "output_type": "display_data"
    },
    {
     "data": {
      "image/png": "[encoded data removed]",
      "text/latex": [
       "$\\displaystyle l_{2, 0} u_{0, 0} = 1$"
      ],
      "text/plain": [
       "l₂₀⋅u₀₀ = 1"
      ]
     },
     "metadata": {},
     "output_type": "display_data"
    },
    {
     "data": {
      "image/png": "[encoded data removed]",
      "text/latex": [
       "$\\displaystyle l_{2, 0} u_{0, 1} + l_{2, 1} u_{1, 1} = 3$"
      ],
      "text/plain": [
       "l₂₀⋅u₀₁ + l₂₁⋅u₁₁ = 3"
      ]
     },
     "metadata": {},
     "output_type": "display_data"
    },
    {
     "data": {
      "image/png": "[encoded data removed]",
      "text/latex": [
       "$\\displaystyle l_{2, 0} u_{0, 2} + l_{2, 1} u_{1, 2} + u_{2, 2} = 2$"
      ],
      "text/plain": [
       "l₂₀⋅u₀₂ + l₂₁⋅u₁₂ + u₂₂ = 2"
      ]
     },
     "metadata": {},
     "output_type": "display_data"
    },
    {
     "name": "stdout",
     "output_type": "stream",
     "text": [
      "\n",
      "Solving the above equations, we get\n",
      "\n"
     ]
    },
    {
     "data": {
      "image/png": "[encoded data removed]",
      "text/latex": [
       "$\\displaystyle L = \\left[\\begin{matrix}1 & 0 & 0\\\\\\frac{1}{2} & 1 & 0\\\\\\frac{1}{2} & \\frac{1}{3} & 1\\end{matrix}\\right]$"
      ],
      "text/plain": [
       "    ⎡ 1    0   0⎤\n",
       "    ⎢           ⎥\n",
       "L = ⎢1/2   1   0⎥\n",
       "    ⎢           ⎥\n",
       "    ⎣1/2  1/3  1⎦"
      ]
     },
     "metadata": {},
     "output_type": "display_data"
    },
    {
     "name": "stdout",
     "output_type": "stream",
     "text": [
      "\n",
      "and\n",
      "\n"
     ]
    },
    {
     "data": {
      "image/png": "[encoded data removed]",
      "text/latex": [
       "$\\displaystyle U = \\left[\\begin{matrix}2 & 4 & -6\\\\0 & 3 & 6\\\\0 & 0 & 3\\end{matrix}\\right]$"
      ],
      "text/plain": [
       "    ⎡2  4  -6⎤\n",
       "    ⎢        ⎥\n",
       "U = ⎢0  3  6 ⎥\n",
       "    ⎢        ⎥\n",
       "    ⎣0  0  3 ⎦"
      ]
     },
     "metadata": {},
     "output_type": "display_data"
    },
    {
     "name": "stdout",
     "output_type": "stream",
     "text": [
      "\n",
      "A = LU, Thus, the system Ax = b is\n",
      "\n",
      "LUx = b\n",
      "\n",
      "Let Ux = y, then\n",
      "\n",
      "Ly = b\n",
      "\n",
      "Step-1: Solve Ly = b, to find y\n"
     ]
    },
    {
     "data": {
      "image/png": "[encoded data removed]",
      "text/latex": [
       "$\\displaystyle \\left[\\begin{matrix}1 & 0 & 0\\\\\\frac{1}{2} & 1 & 0\\\\\\frac{1}{2} & \\frac{1}{3} & 1\\end{matrix}\\right] y = \\left[\\begin{matrix}-4\\\\10\\\\5\\end{matrix}\\right]$"
      ],
      "text/plain": [
       "⎡ 1    0   0⎤     ⎡-4⎤\n",
       "⎢           ⎥     ⎢  ⎥\n",
       "⎢1/2   1   0⎥⋅y = ⎢10⎥\n",
       "⎢           ⎥     ⎢  ⎥\n",
       "⎣1/2  1/3  1⎦     ⎣5 ⎦"
      ]
     },
     "metadata": {},
     "output_type": "display_data"
    },
    {
     "data": {
      "image/png": "[encoded data removed]",
      "text/latex": [
       "$\\displaystyle \\left[\\begin{matrix}1 & 0 & 0\\\\\\frac{1}{2} & 1 & 0\\\\\\frac{1}{2} & \\frac{1}{3} & 1\\end{matrix}\\right] \\left[\\begin{matrix}y_{0, 0}\\\\y_{1, 0}\\\\y_{2, 0}\\end{matrix}\\right] = \\left[\\begin{matrix}-4\\\\10\\\\5\\end{matrix}\\right]$"
      ],
      "text/plain": [
       "⎡ 1    0   0⎤ ⎡y₀₀⎤   ⎡-4⎤\n",
       "⎢           ⎥ ⎢   ⎥   ⎢  ⎥\n",
       "⎢1/2   1   0⎥⋅⎢y₁₀⎥ = ⎢10⎥\n",
       "⎢           ⎥ ⎢   ⎥   ⎢  ⎥\n",
       "⎣1/2  1/3  1⎦ ⎣y₂₀⎦   ⎣5 ⎦"
      ]
     },
     "metadata": {},
     "output_type": "display_data"
    },
    {
     "name": "stdout",
     "output_type": "stream",
     "text": [
      "By Applying forward substitution, we get\n"
     ]
    },
    {
     "data": {
      "image/png": "[encoded data removed]",
      "text/latex": [
       "$\\displaystyle y = \\left[\\begin{matrix}-4.0\\\\12.0\\\\3.0\\end{matrix}\\right]$"
      ],
      "text/plain": [
       "    ⎡-4.0⎤\n",
       "    ⎢    ⎥\n",
       "y = ⎢12.0⎥\n",
       "    ⎢    ⎥\n",
       "    ⎣3.0 ⎦"
      ]
     },
     "metadata": {},
     "output_type": "display_data"
    },
    {
     "name": "stdout",
     "output_type": "stream",
     "text": [
      "Step-2: Now solve Ux = y, to find x\n"
     ]
    },
    {
     "data": {
      "image/png": "[encoded data removed]",
      "text/latex": [
       "$\\displaystyle \\left[\\begin{matrix}2 & 4 & -6\\\\0 & 3 & 6\\\\0 & 0 & 3\\end{matrix}\\right] x = \\left[\\begin{matrix}-4.0\\\\12.0\\\\3.0\\end{matrix}\\right]$"
      ],
      "text/plain": [
       "⎡2  4  -6⎤     ⎡-4.0⎤\n",
       "⎢        ⎥     ⎢    ⎥\n",
       "⎢0  3  6 ⎥⋅x = ⎢12.0⎥\n",
       "⎢        ⎥     ⎢    ⎥\n",
       "⎣0  0  3 ⎦     ⎣3.0 ⎦"
      ]
     },
     "metadata": {},
     "output_type": "display_data"
    },
    {
     "data": {
      "image/png": "[encoded data removed]",
      "text/latex": [
       "$\\displaystyle \\left[\\begin{matrix}2 & 4 & -6\\\\0 & 3 & 6\\\\0 & 0 & 3\\end{matrix}\\right] \\left[\\begin{matrix}x_{0, 0}\\\\x_{1, 0}\\\\x_{2, 0}\\end{matrix}\\right] = \\left[\\begin{matrix}-4.0\\\\12.0\\\\3.0\\end{matrix}\\right]$"
      ],
      "text/plain": [
       "⎡2  4  -6⎤ ⎡x₀₀⎤   ⎡-4.0⎤\n",
       "⎢        ⎥ ⎢   ⎥   ⎢    ⎥\n",
       "⎢0  3  6 ⎥⋅⎢x₁₀⎥ = ⎢12.0⎥\n",
       "⎢        ⎥ ⎢   ⎥   ⎢    ⎥\n",
       "⎣0  0  3 ⎦ ⎣x₂₀⎦   ⎣3.0 ⎦"
      ]
     },
     "metadata": {},
     "output_type": "display_data"
    },
    {
     "name": "stdout",
     "output_type": "stream",
     "text": [
      "By Applying back substitution, we get\n"
     ]
    },
    {
     "data": {
      "image/png": "[encoded data removed]",
      "text/latex": [
       "$\\displaystyle x = \\left[\\begin{matrix}-3.0\\\\2.0\\\\1.0\\end{matrix}\\right]$"
      ],
      "text/plain": [
       "    ⎡-3.0⎤\n",
       "    ⎢    ⎥\n",
       "x = ⎢2.0 ⎥\n",
       "    ⎢    ⎥\n",
       "    ⎣1.0 ⎦"
      ]
     },
     "metadata": {},
     "output_type": "display_data"
    }
   ],
   "source": [
    "\n",
    "lsf.get_linear_system(system_type='lu_dolittle').solve(a = a, b = b)"
   ]
  },
  {
   "cell_type": "code",
   "execution_count": 5,
   "id": "2629c87c",
   "metadata": {},
   "outputs": [
    {
     "name": "stdout",
     "output_type": "stream",
     "text": [
      "Starting Dolittle method for LU decomposition\n",
      "Input Matrix A:\n",
      "\n"
     ]
    },
    {
     "data": {
      "image/png": "[encoded data removed]",
      "text/latex": [
       "$\\displaystyle \\left[\\begin{matrix}16 & 4 & 4 & -4\\\\4 & 10 & 4 & 2\\\\4 & 4 & 6 & -2\\\\-4 & 2 & -2 & 4\\end{matrix}\\right]$"
      ],
      "text/plain": [
       "⎡16  4   4   -4⎤\n",
       "⎢              ⎥\n",
       "⎢4   10  4   2 ⎥\n",
       "⎢              ⎥\n",
       "⎢4   4   6   -2⎥\n",
       "⎢              ⎥\n",
       "⎣-4  2   -2  4 ⎦"
      ]
     },
     "metadata": {},
     "output_type": "display_data"
    },
    {
     "name": "stdout",
     "output_type": "stream",
     "text": [
      "\n",
      "A = LU, where\n",
      "\n"
     ]
    },
    {
     "data": {
      "image/png": "[encoded data removed]",
      "text/latex": [
       "$\\displaystyle L = \\left[\\begin{matrix}l_{0, 0} & 0 & 0 & 0\\\\l_{1, 0} & l_{1, 1} & 0 & 0\\\\l_{2, 0} & l_{2, 1} & l_{2, 2} & 0\\\\l_{3, 0} & l_{3, 1} & l_{3, 2} & l_{3, 3}\\end{matrix}\\right]$"
      ],
      "text/plain": [
       "    ⎡l₀₀   0    0    0 ⎤\n",
       "    ⎢                  ⎥\n",
       "    ⎢l₁₀  l₁₁   0    0 ⎥\n",
       "L = ⎢                  ⎥\n",
       "    ⎢l₂₀  l₂₁  l₂₂   0 ⎥\n",
       "    ⎢                  ⎥\n",
       "    ⎣l₃₀  l₃₁  l₃₂  l₃₃⎦"
      ]
     },
     "metadata": {},
     "output_type": "display_data"
    },
    {
     "name": "stdout",
     "output_type": "stream",
     "text": [
      "\n",
      "and\n",
      "\n"
     ]
    },
    {
     "data": {
      "image/png": "[encoded data removed]",
      "text/latex": [
       "$\\displaystyle U = \\left[\\begin{matrix}1 & u_{0, 1} & u_{0, 2} & u_{0, 3}\\\\0 & 1 & u_{1, 2} & u_{1, 3}\\\\0 & 0 & 1 & u_{2, 3}\\\\0 & 0 & 0 & 1\\end{matrix}\\right]$"
      ],
      "text/plain": [
       "    ⎡1  u₀₁  u₀₂  u₀₃⎤\n",
       "    ⎢                ⎥\n",
       "    ⎢0   1   u₁₂  u₁₃⎥\n",
       "U = ⎢                ⎥\n",
       "    ⎢0   0    1   u₂₃⎥\n",
       "    ⎢                ⎥\n",
       "    ⎣0   0    0    1 ⎦"
      ]
     },
     "metadata": {},
     "output_type": "display_data"
    },
    {
     "data": {
      "image/png": "[encoded data removed]",
      "text/latex": [
       "$\\displaystyle L U = \\left[\\begin{matrix}l_{0, 0} & 0 & 0 & 0\\\\l_{1, 0} & l_{1, 1} & 0 & 0\\\\l_{2, 0} & l_{2, 1} & l_{2, 2} & 0\\\\l_{3, 0} & l_{3, 1} & l_{3, 2} & l_{3, 3}\\end{matrix}\\right] \\left[\\begin{matrix}1 & u_{0, 1} & u_{0, 2} & u_{0, 3}\\\\0 & 1 & u_{1, 2} & u_{1, 3}\\\\0 & 0 & 1 & u_{2, 3}\\\\0 & 0 & 0 & 1\\end{matrix}\\right]$"
      ],
      "text/plain": [
       "      ⎡l₀₀   0    0    0 ⎤ ⎡1  u₀₁  u₀₂  u₀₃⎤\n",
       "      ⎢                  ⎥ ⎢                ⎥\n",
       "      ⎢l₁₀  l₁₁   0    0 ⎥ ⎢0   1   u₁₂  u₁₃⎥\n",
       "L⋅U = ⎢                  ⎥⋅⎢                ⎥\n",
       "      ⎢l₂₀  l₂₁  l₂₂   0 ⎥ ⎢0   0    1   u₂₃⎥\n",
       "      ⎢                  ⎥ ⎢                ⎥\n",
       "      ⎣l₃₀  l₃₁  l₃₂  l₃₃⎦ ⎣0   0    0    1 ⎦"
      ]
     },
     "metadata": {},
     "output_type": "display_data"
    },
    {
     "name": "stdout",
     "output_type": "stream",
     "text": [
      "\n"
     ]
    },
    {
     "data": {
      "image/png": "[encoded data removed]",
      "text/latex": [
       "$\\displaystyle L U = \\left[\\begin{matrix}l_{0, 0} & l_{0, 0} u_{0, 1} & l_{0, 0} u_{0, 2} & l_{0, 0} u_{0, 3}\\\\l_{1, 0} & l_{1, 0} u_{0, 1} + l_{1, 1} & l_{1, 0} u_{0, 2} + l_{1, 1} u_{1, 2} & l_{1, 0} u_{0, 3} + l_{1, 1} u_{1, 3}\\\\l_{2, 0} & l_{2, 0} u_{0, 1} + l_{2, 1} & l_{2, 0} u_{0, 2} + l_{2, 1} u_{1, 2} + l_{2, 2} & l_{2, 0} u_{0, 3} + l_{2, 1} u_{1, 3} + l_{2, 2} u_{2, 3}\\\\l_{3, 0} & l_{3, 0} u_{0, 1} + l_{3, 1} & l_{3, 0} u_{0, 2} + l_{3, 1} u_{1, 2} + l_{3, 2} & l_{3, 0} u_{0, 3} + l_{3, 1} u_{1, 3} + l_{3, 2} u_{2, 3} + l_{3, 3}\\end{matrix}\\right]$"
      ],
      "text/plain": [
       "      ⎡l₀₀     l₀₀⋅u₀₁             l₀₀⋅u₀₂                       l₀₀⋅u₀₃      \n",
       "      ⎢                                                                       \n",
       "      ⎢l₁₀  l₁₀⋅u₀₁ + l₁₁     l₁₀⋅u₀₂ + l₁₁⋅u₁₂             l₁₀⋅u₀₃ + l₁₁⋅u₁₃ \n",
       "L⋅U = ⎢                                                                       \n",
       "      ⎢l₂₀  l₂₀⋅u₀₁ + l₂₁  l₂₀⋅u₀₂ + l₂₁⋅u₁₂ + l₂₂     l₂₀⋅u₀₃ + l₂₁⋅u₁₃ + l₂₂\n",
       "      ⎢                                                                       \n",
       "      ⎣l₃₀  l₃₀⋅u₀₁ + l₃₁  l₃₀⋅u₀₂ + l₃₁⋅u₁₂ + l₃₂  l₃₀⋅u₀₃ + l₃₁⋅u₁₃ + l₃₂⋅u₂\n",
       "\n",
       "       ⎤\n",
       "       ⎥\n",
       "       ⎥\n",
       "       ⎥\n",
       "⋅u₂₃   ⎥\n",
       "       ⎥\n",
       "₃ + l₃₃⎦"
      ]
     },
     "metadata": {},
     "output_type": "display_data"
    },
    {
     "name": "stdout",
     "output_type": "stream",
     "text": [
      "\n",
      "On equating this with A, we get\n"
     ]
    },
    {
     "data": {
      "image/png": "[encoded data removed]",
      "text/latex": [
       "$\\displaystyle \\left[\\begin{matrix}16 & 4 & 4 & -4\\\\4 & 10 & 4 & 2\\\\4 & 4 & 6 & -2\\\\-4 & 2 & -2 & 4\\end{matrix}\\right] = \\left[\\begin{matrix}l_{0, 0} & l_{0, 0} u_{0, 1} & l_{0, 0} u_{0, 2} & l_{0, 0} u_{0, 3}\\\\l_{1, 0} & l_{1, 0} u_{0, 1} + l_{1, 1} & l_{1, 0} u_{0, 2} + l_{1, 1} u_{1, 2} & l_{1, 0} u_{0, 3} + l_{1, 1} u_{1, 3}\\\\l_{2, 0} & l_{2, 0} u_{0, 1} + l_{2, 1} & l_{2, 0} u_{0, 2} + l_{2, 1} u_{1, 2} + l_{2, 2} & l_{2, 0} u_{0, 3} + l_{2, 1} u_{1, 3} + l_{2, 2} u_{2, 3}\\\\l_{3, 0} & l_{3, 0} u_{0, 1} + l_{3, 1} & l_{3, 0} u_{0, 2} + l_{3, 1} u_{1, 2} + l_{3, 2} & l_{3, 0} u_{0, 3} + l_{3, 1} u_{1, 3} + l_{3, 2} u_{2, 3} + l_{3, 3}\\end{matrix}\\right]$"
      ],
      "text/plain": [
       "⎡16  4   4   -4⎤   ⎡l₀₀     l₀₀⋅u₀₁             l₀₀⋅u₀₂                       \n",
       "⎢              ⎥   ⎢                                                          \n",
       "⎢4   10  4   2 ⎥   ⎢l₁₀  l₁₀⋅u₀₁ + l₁₁     l₁₀⋅u₀₂ + l₁₁⋅u₁₂             l₁₀⋅u\n",
       "⎢              ⎥ = ⎢                                                          \n",
       "⎢4   4   6   -2⎥   ⎢l₂₀  l₂₀⋅u₀₁ + l₂₁  l₂₀⋅u₀₂ + l₂₁⋅u₁₂ + l₂₂     l₂₀⋅u₀₃ + \n",
       "⎢              ⎥   ⎢                                                          \n",
       "⎣-4  2   -2  4 ⎦   ⎣l₃₀  l₃₀⋅u₀₁ + l₃₁  l₃₀⋅u₀₂ + l₃₁⋅u₁₂ + l₃₂  l₃₀⋅u₀₃ + l₃₁\n",
       "\n",
       "l₀₀⋅u₀₃             ⎤\n",
       "                    ⎥\n",
       "₀₃ + l₁₁⋅u₁₃        ⎥\n",
       "                    ⎥\n",
       "l₂₁⋅u₁₃ + l₂₂⋅u₂₃   ⎥\n",
       "                    ⎥\n",
       "⋅u₁₃ + l₃₂⋅u₂₃ + l₃₃⎦"
      ]
     },
     "metadata": {},
     "output_type": "display_data"
    },
    {
     "data": {
      "image/png": "[encoded data removed]",
      "text/latex": [
       "$\\displaystyle l_{0, 0} = 16$"
      ],
      "text/plain": [
       "l₀₀ = 16"
      ]
     },
     "metadata": {},
     "output_type": "display_data"
    },
    {
     "data": {
      "image/png": "[encoded data removed]",
      "text/latex": [
       "$\\displaystyle l_{0, 0} u_{0, 1} = 4$"
      ],
      "text/plain": [
       "l₀₀⋅u₀₁ = 4"
      ]
     },
     "metadata": {},
     "output_type": "display_data"
    },
    {
     "data": {
      "image/png": "[encoded data removed]",
      "text/latex": [
       "$\\displaystyle l_{0, 0} u_{0, 2} = 4$"
      ],
      "text/plain": [
       "l₀₀⋅u₀₂ = 4"
      ]
     },
     "metadata": {},
     "output_type": "display_data"
    },
    {
     "data": {
      "image/png": "[encoded data removed]",
      "text/latex": [
       "$\\displaystyle l_{0, 0} u_{0, 3} = -4$"
      ],
      "text/plain": [
       "l₀₀⋅u₀₃ = -4"
      ]
     },
     "metadata": {},
     "output_type": "display_data"
    },
    {
     "data": {
      "image/png": "[encoded data removed]",
      "text/latex": [
       "$\\displaystyle l_{1, 0} = 4$"
      ],
      "text/plain": [
       "l₁₀ = 4"
      ]
     },
     "metadata": {},
     "output_type": "display_data"
    },
    {
     "data": {
      "image/png": "[encoded data removed]",
      "text/latex": [
       "$\\displaystyle l_{1, 0} u_{0, 1} + l_{1, 1} = 10$"
      ],
      "text/plain": [
       "l₁₀⋅u₀₁ + l₁₁ = 10"
      ]
     },
     "metadata": {},
     "output_type": "display_data"
    },
    {
     "data": {
      "image/png": "[encoded data removed]",
      "text/latex": [
       "$\\displaystyle l_{1, 0} u_{0, 2} + l_{1, 1} u_{1, 2} = 4$"
      ],
      "text/plain": [
       "l₁₀⋅u₀₂ + l₁₁⋅u₁₂ = 4"
      ]
     },
     "metadata": {},
     "output_type": "display_data"
    },
    {
     "data": {
      "image/png": "[encoded data removed]",
      "text/latex": [
       "$\\displaystyle l_{1, 0} u_{0, 3} + l_{1, 1} u_{1, 3} = 2$"
      ],
      "text/plain": [
       "l₁₀⋅u₀₃ + l₁₁⋅u₁₃ = 2"
      ]
     },
     "metadata": {},
     "output_type": "display_data"
    },
    {
     "data": {
      "image/png": "[encoded data removed]",
      "text/latex": [
       "$\\displaystyle l_{2, 0} = 4$"
      ],
      "text/plain": [
       "l₂₀ = 4"
      ]
     },
     "metadata": {},
     "output_type": "display_data"
    },
    {
     "data": {
      "image/png": "[encoded data removed]",
      "text/latex": [
       "$\\displaystyle l_{2, 0} u_{0, 1} + l_{2, 1} = 4$"
      ],
      "text/plain": [
       "l₂₀⋅u₀₁ + l₂₁ = 4"
      ]
     },
     "metadata": {},
     "output_type": "display_data"
    },
    {
     "data": {
      "image/png": "[encoded data removed]",
      "text/latex": [
       "$\\displaystyle l_{2, 0} u_{0, 2} + l_{2, 1} u_{1, 2} + l_{2, 2} = 6$"
      ],
      "text/plain": [
       "l₂₀⋅u₀₂ + l₂₁⋅u₁₂ + l₂₂ = 6"
      ]
     },
     "metadata": {},
     "output_type": "display_data"
    },
    {
     "data": {
      "image/png": "[encoded data removed]",
      "text/latex": [
       "$\\displaystyle l_{2, 0} u_{0, 3} + l_{2, 1} u_{1, 3} + l_{2, 2} u_{2, 3} = -2$"
      ],
      "text/plain": [
       "l₂₀⋅u₀₃ + l₂₁⋅u₁₃ + l₂₂⋅u₂₃ = -2"
      ]
     },
     "metadata": {},
     "output_type": "display_data"
    },
    {
     "data": {
      "image/png": "[encoded data removed]",
      "text/latex": [
       "$\\displaystyle l_{3, 0} = -4$"
      ],
      "text/plain": [
       "l₃₀ = -4"
      ]
     },
     "metadata": {},
     "output_type": "display_data"
    },
    {
     "data": {
      "image/png": "[encoded data removed]",
      "text/latex": [
       "$\\displaystyle l_{3, 0} u_{0, 1} + l_{3, 1} = 2$"
      ],
      "text/plain": [
       "l₃₀⋅u₀₁ + l₃₁ = 2"
      ]
     },
     "metadata": {},
     "output_type": "display_data"
    },
    {
     "data": {
      "image/png": "[encoded data removed]",
      "text/latex": [
       "$\\displaystyle l_{3, 0} u_{0, 2} + l_{3, 1} u_{1, 2} + l_{3, 2} = -2$"
      ],
      "text/plain": [
       "l₃₀⋅u₀₂ + l₃₁⋅u₁₂ + l₃₂ = -2"
      ]
     },
     "metadata": {},
     "output_type": "display_data"
    },
    {
     "data": {
      "image/png": "[encoded data removed]",
      "text/latex": [
       "$\\displaystyle l_{3, 0} u_{0, 3} + l_{3, 1} u_{1, 3} + l_{3, 2} u_{2, 3} + l_{3, 3} = 4$"
      ],
      "text/plain": [
       "l₃₀⋅u₀₃ + l₃₁⋅u₁₃ + l₃₂⋅u₂₃ + l₃₃ = 4"
      ]
     },
     "metadata": {},
     "output_type": "display_data"
    },
    {
     "name": "stdout",
     "output_type": "stream",
     "text": [
      "\n",
      "Solving the above equations, we get\n",
      "\n"
     ]
    },
    {
     "data": {
      "image/png": "[encoded data removed]",
      "text/latex": [
       "$\\displaystyle L = \\left[\\begin{matrix}16 & 0 & 0 & 0\\\\4 & 10 & 0 & 0\\\\4 & 4 & 6 & 0\\\\-4 & 2 & -2 & 4\\end{matrix}\\right]$"
      ],
      "text/plain": [
       "    ⎡16  0   0   0⎤\n",
       "    ⎢             ⎥\n",
       "    ⎢4   10  0   0⎥\n",
       "L = ⎢             ⎥\n",
       "    ⎢4   4   6   0⎥\n",
       "    ⎢             ⎥\n",
       "    ⎣-4  2   -2  4⎦"
      ]
     },
     "metadata": {},
     "output_type": "display_data"
    },
    {
     "name": "stdout",
     "output_type": "stream",
     "text": [
      "\n",
      "and\n",
      "\n"
     ]
    },
    {
     "data": {
      "image/png": "[encoded data removed]",
      "text/latex": [
       "$\\displaystyle U = \\left[\\begin{matrix}1 & 0 & 0 & 0\\\\0 & 1 & 0 & 0\\\\0 & 0 & 1 & 0\\\\0 & 0 & 0 & 1\\end{matrix}\\right]$"
      ],
      "text/plain": [
       "    ⎡1  0  0  0⎤\n",
       "    ⎢          ⎥\n",
       "    ⎢0  1  0  0⎥\n",
       "U = ⎢          ⎥\n",
       "    ⎢0  0  1  0⎥\n",
       "    ⎢          ⎥\n",
       "    ⎣0  0  0  1⎦"
      ]
     },
     "metadata": {},
     "output_type": "display_data"
    },
    {
     "name": "stdout",
     "output_type": "stream",
     "text": [
      "\n",
      "A = LU, Thus, the system Ax = b is\n",
      "\n",
      "LUx = b\n",
      "\n",
      "Let Ux = y, then\n",
      "\n",
      "Ly = b\n",
      "\n",
      "Step-1: Solve Ly = b, to find y\n"
     ]
    },
    {
     "data": {
      "image/png": "[encoded data removed]",
      "text/latex": [
       "$\\displaystyle \\left[\\begin{matrix}16 & 0 & 0 & 0\\\\4 & 10 & 0 & 0\\\\4 & 4 & 6 & 0\\\\-4 & 2 & -2 & 4\\end{matrix}\\right] y = \\left[\\begin{matrix}32\\\\26\\\\20\\\\-6\\end{matrix}\\right]$"
      ],
      "text/plain": [
       "⎡16  0   0   0⎤     ⎡32⎤\n",
       "⎢             ⎥     ⎢  ⎥\n",
       "⎢4   10  0   0⎥     ⎢26⎥\n",
       "⎢             ⎥⋅y = ⎢  ⎥\n",
       "⎢4   4   6   0⎥     ⎢20⎥\n",
       "⎢             ⎥     ⎢  ⎥\n",
       "⎣-4  2   -2  4⎦     ⎣-6⎦"
      ]
     },
     "metadata": {},
     "output_type": "display_data"
    },
    {
     "data": {
      "image/png": "[encoded data removed]",
      "text/latex": [
       "$\\displaystyle \\left[\\begin{matrix}16 & 0 & 0 & 0\\\\4 & 10 & 0 & 0\\\\4 & 4 & 6 & 0\\\\-4 & 2 & -2 & 4\\end{matrix}\\right] \\left[\\begin{matrix}y_{0, 0}\\\\y_{1, 0}\\\\y_{2, 0}\\\\y_{3, 0}\\end{matrix}\\right] = \\left[\\begin{matrix}32\\\\26\\\\20\\\\-6\\end{matrix}\\right]$"
      ],
      "text/plain": [
       "⎡16  0   0   0⎤ ⎡y₀₀⎤   ⎡32⎤\n",
       "⎢             ⎥ ⎢   ⎥   ⎢  ⎥\n",
       "⎢4   10  0   0⎥ ⎢y₁₀⎥   ⎢26⎥\n",
       "⎢             ⎥⋅⎢   ⎥ = ⎢  ⎥\n",
       "⎢4   4   6   0⎥ ⎢y₂₀⎥   ⎢20⎥\n",
       "⎢             ⎥ ⎢   ⎥   ⎢  ⎥\n",
       "⎣-4  2   -2  4⎦ ⎣y₃₀⎦   ⎣-6⎦"
      ]
     },
     "metadata": {},
     "output_type": "display_data"
    },
    {
     "name": "stdout",
     "output_type": "stream",
     "text": [
      "By Applying forward substitution, we get\n"
     ]
    },
    {
     "data": {
      "image/png": "[encoded data removed]",
      "text/latex": [
       "$\\displaystyle y = \\left[\\begin{matrix}2.0\\\\1.8\\\\0.8\\\\-5.551 \\cdot 10^{-17}\\end{matrix}\\right]$"
      ],
      "text/plain": [
       "    ⎡   2.0    ⎤\n",
       "    ⎢          ⎥\n",
       "    ⎢   1.8    ⎥\n",
       "y = ⎢          ⎥\n",
       "    ⎢   0.8    ⎥\n",
       "    ⎢          ⎥\n",
       "    ⎣-5.551e-17⎦"
      ]
     },
     "metadata": {},
     "output_type": "display_data"
    },
    {
     "name": "stdout",
     "output_type": "stream",
     "text": [
      "Step-2: Now solve Ux = y, to find x\n"
     ]
    },
    {
     "data": {
      "image/png": "[encoded data removed]",
      "text/latex": [
       "$\\displaystyle \\left[\\begin{matrix}1 & 0 & 0 & 0\\\\0 & 1 & 0 & 0\\\\0 & 0 & 1 & 0\\\\0 & 0 & 0 & 1\\end{matrix}\\right] x = \\left[\\begin{matrix}2.0\\\\1.8\\\\0.8\\\\-5.551 \\cdot 10^{-17}\\end{matrix}\\right]$"
      ],
      "text/plain": [
       "⎡1  0  0  0⎤     ⎡   2.0    ⎤\n",
       "⎢          ⎥     ⎢          ⎥\n",
       "⎢0  1  0  0⎥     ⎢   1.8    ⎥\n",
       "⎢          ⎥⋅x = ⎢          ⎥\n",
       "⎢0  0  1  0⎥     ⎢   0.8    ⎥\n",
       "⎢          ⎥     ⎢          ⎥\n",
       "⎣0  0  0  1⎦     ⎣-5.551e-17⎦"
      ]
     },
     "metadata": {},
     "output_type": "display_data"
    },
    {
     "data": {
      "image/png": "[encoded data removed]",
      "text/latex": [
       "$\\displaystyle \\left[\\begin{matrix}1 & 0 & 0 & 0\\\\0 & 1 & 0 & 0\\\\0 & 0 & 1 & 0\\\\0 & 0 & 0 & 1\\end{matrix}\\right] \\left[\\begin{matrix}x_{0, 0}\\\\x_{1, 0}\\\\x_{2, 0}\\\\x_{3, 0}\\end{matrix}\\right] = \\left[\\begin{matrix}2.0\\\\1.8\\\\0.8\\\\-5.551 \\cdot 10^{-17}\\end{matrix}\\right]$"
      ],
      "text/plain": [
       "⎡1  0  0  0⎤ ⎡x₀₀⎤   ⎡   2.0    ⎤\n",
       "⎢          ⎥ ⎢   ⎥   ⎢          ⎥\n",
       "⎢0  1  0  0⎥ ⎢x₁₀⎥   ⎢   1.8    ⎥\n",
       "⎢          ⎥⋅⎢   ⎥ = ⎢          ⎥\n",
       "⎢0  0  1  0⎥ ⎢x₂₀⎥   ⎢   0.8    ⎥\n",
       "⎢          ⎥ ⎢   ⎥   ⎢          ⎥\n",
       "⎣0  0  0  1⎦ ⎣x₃₀⎦   ⎣-5.551e-17⎦"
      ]
     },
     "metadata": {},
     "output_type": "display_data"
    },
    {
     "name": "stdout",
     "output_type": "stream",
     "text": [
      "By Applying back substitution, we get\n"
     ]
    },
    {
     "data": {
      "image/png": "[encoded data removed]",
      "text/latex": [
       "$\\displaystyle x = \\left[\\begin{matrix}2.0\\\\1.8\\\\0.8\\\\-5.551 \\cdot 10^{-17}\\end{matrix}\\right]$"
      ],
      "text/plain": [
       "    ⎡   2.0    ⎤\n",
       "    ⎢          ⎥\n",
       "    ⎢   1.8    ⎥\n",
       "x = ⎢          ⎥\n",
       "    ⎢   0.8    ⎥\n",
       "    ⎢          ⎥\n",
       "    ⎣-5.551e-17⎦"
      ]
     },
     "metadata": {},
     "output_type": "display_data"
    }
   ],
   "source": [
    "lsf.get_linear_system(system_type='lu_crout').solve(a = a, b = b)"
   ]
  },
  {
   "cell_type": "code",
   "execution_count": 4,
   "id": "aa317d4b",
   "metadata": {},
   "outputs": [
    {
     "name": "stdout",
     "output_type": "stream",
     "text": [
      "Starting Cholesky method for LU decomposition\n",
      "Input Matrix A:\n",
      "\n"
     ]
    },
    {
     "data": {
      "image/png": "[encoded data removed]",
      "text/latex": [
       "$\\displaystyle \\left[\\begin{matrix}16 & 4 & 4 & -4\\\\4 & 10 & 4 & 2\\\\4 & 4 & 6 & -2\\\\-4 & 2 & -2 & 4\\end{matrix}\\right]$"
      ],
      "text/plain": [
       "⎡16  4   4   -4⎤\n",
       "⎢              ⎥\n",
       "⎢4   10  4   2 ⎥\n",
       "⎢              ⎥\n",
       "⎢4   4   6   -2⎥\n",
       "⎢              ⎥\n",
       "⎣-4  2   -2  4 ⎦"
      ]
     },
     "metadata": {},
     "output_type": "display_data"
    },
    {
     "name": "stdout",
     "output_type": "stream",
     "text": [
      "\n",
      "A = UᵀU, where\n",
      "\n"
     ]
    },
    {
     "data": {
      "image/png": "[encoded data removed]",
      "text/latex": [
       "$\\displaystyle U = \\left[\\begin{matrix}u_{0, 0} & u_{0, 1} & u_{0, 2} & u_{0, 3}\\\\0 & u_{1, 1} & u_{1, 2} & u_{1, 3}\\\\0 & 0 & u_{2, 2} & u_{2, 3}\\\\0 & 0 & 0 & u_{3, 3}\\end{matrix}\\right]$"
      ],
      "text/plain": [
       "    ⎡u₀₀  u₀₁  u₀₂  u₀₃⎤\n",
       "    ⎢                  ⎥\n",
       "    ⎢ 0   u₁₁  u₁₂  u₁₃⎥\n",
       "U = ⎢                  ⎥\n",
       "    ⎢ 0    0   u₂₂  u₂₃⎥\n",
       "    ⎢                  ⎥\n",
       "    ⎣ 0    0    0   u₃₃⎦"
      ]
     },
     "metadata": {},
     "output_type": "display_data"
    },
    {
     "name": "stdout",
     "output_type": "stream",
     "text": [
      "\n",
      "and\n",
      "\n"
     ]
    },
    {
     "data": {
      "image/png": "[encoded data removed]",
      "text/latex": [
       "$\\displaystyle U^{T} = \\left(\\left[\\begin{matrix}u_{0, 0} & u_{0, 1} & u_{0, 2} & u_{0, 3}\\\\0 & u_{1, 1} & u_{1, 2} & u_{1, 3}\\\\0 & 0 & u_{2, 2} & u_{2, 3}\\\\0 & 0 & 0 & u_{3, 3}\\end{matrix}\\right]\\right)^{T}$"
      ],
      "text/plain": [
       "                             T\n",
       "       ⎛⎡u₀₀  u₀₁  u₀₂  u₀₃⎤⎞ \n",
       "       ⎜⎢                  ⎥⎟ \n",
       "       ⎜⎢ 0   u₁₁  u₁₂  u₁₃⎥⎟ \n",
       "U__T = ⎜⎢                  ⎥⎟ \n",
       "       ⎜⎢ 0    0   u₂₂  u₂₃⎥⎟ \n",
       "       ⎜⎢                  ⎥⎟ \n",
       "       ⎝⎣ 0    0    0   u₃₃⎦⎠ "
      ]
     },
     "metadata": {},
     "output_type": "display_data"
    },
    {
     "data": {
      "image/png": "[encoded data removed]",
      "text/latex": [
       "$\\displaystyle U^{T} U = \\left(\\left[\\begin{matrix}u_{0, 0} & u_{0, 1} & u_{0, 2} & u_{0, 3}\\\\0 & u_{1, 1} & u_{1, 2} & u_{1, 3}\\\\0 & 0 & u_{2, 2} & u_{2, 3}\\\\0 & 0 & 0 & u_{3, 3}\\end{matrix}\\right]\\right)^{T} \\left[\\begin{matrix}u_{0, 0} & u_{0, 1} & u_{0, 2} & u_{0, 3}\\\\0 & u_{1, 1} & u_{1, 2} & u_{1, 3}\\\\0 & 0 & u_{2, 2} & u_{2, 3}\\\\0 & 0 & 0 & u_{3, 3}\\end{matrix}\\right]$"
      ],
      "text/plain": [
       "                               T                     \n",
       "         ⎛⎡u₀₀  u₀₁  u₀₂  u₀₃⎤⎞  ⎡u₀₀  u₀₁  u₀₂  u₀₃⎤\n",
       "         ⎜⎢                  ⎥⎟  ⎢                  ⎥\n",
       "         ⎜⎢ 0   u₁₁  u₁₂  u₁₃⎥⎟  ⎢ 0   u₁₁  u₁₂  u₁₃⎥\n",
       "U__T⋅U = ⎜⎢                  ⎥⎟ ⋅⎢                  ⎥\n",
       "         ⎜⎢ 0    0   u₂₂  u₂₃⎥⎟  ⎢ 0    0   u₂₂  u₂₃⎥\n",
       "         ⎜⎢                  ⎥⎟  ⎢                  ⎥\n",
       "         ⎝⎣ 0    0    0   u₃₃⎦⎠  ⎣ 0    0    0   u₃₃⎦"
      ]
     },
     "metadata": {},
     "output_type": "display_data"
    },
    {
     "name": "stdout",
     "output_type": "stream",
     "text": [
      "\n"
     ]
    },
    {
     "data": {
      "image/png": "[encoded data removed]",
      "text/latex": [
       "$\\displaystyle U^{T} U = \\left[\\begin{matrix}u_{0, 0}^{2} & u_{0, 0} u_{0, 1} & u_{0, 0} u_{0, 2} & u_{0, 0} u_{0, 3}\\\\u_{0, 0} u_{0, 1} & u_{0, 1}^{2} + u_{1, 1}^{2} & u_{0, 1} u_{0, 2} + u_{1, 1} u_{1, 2} & u_{0, 1} u_{0, 3} + u_{1, 1} u_{1, 3}\\\\u_{0, 0} u_{0, 2} & u_{0, 1} u_{0, 2} + u_{1, 1} u_{1, 2} & u_{0, 2}^{2} + u_{1, 2}^{2} + u_{2, 2}^{2} & u_{0, 2} u_{0, 3} + u_{1, 2} u_{1, 3} + u_{2, 2} u_{2, 3}\\\\u_{0, 0} u_{0, 3} & u_{0, 1} u_{0, 3} + u_{1, 1} u_{1, 3} & u_{0, 2} u_{0, 3} + u_{1, 2} u_{1, 3} + u_{2, 2} u_{2, 3} & u_{0, 3}^{2} + u_{1, 3}^{2} + u_{2, 3}^{2} + u_{3, 3}^{2}\\end{matrix}\\right]$"
      ],
      "text/plain": [
       "         ⎡    2                                                               \n",
       "         ⎢ u₀₀          u₀₀⋅u₀₁                 u₀₀⋅u₀₂                      u\n",
       "         ⎢                                                                    \n",
       "         ⎢               2      2                                             \n",
       "         ⎢u₀₀⋅u₀₁     u₀₁  + u₁₁           u₀₁⋅u₀₂ + u₁₁⋅u₁₂            u₀₁⋅u₀\n",
       "U__T⋅U = ⎢                                                                    \n",
       "         ⎢                                   2      2      2                  \n",
       "         ⎢u₀₀⋅u₀₂  u₀₁⋅u₀₂ + u₁₁⋅u₁₂      u₀₂  + u₁₂  + u₂₂        u₀₂⋅u₀₃ + u\n",
       "         ⎢                                                                    \n",
       "         ⎢                                                             2      \n",
       "         ⎣u₀₀⋅u₀₃  u₀₁⋅u₀₃ + u₁₁⋅u₁₃  u₀₂⋅u₀₃ + u₁₂⋅u₁₃ + u₂₂⋅u₂₃   u₀₃  + u₁₃\n",
       "\n",
       "                ⎤\n",
       "₀₀⋅u₀₃          ⎥\n",
       "                ⎥\n",
       "                ⎥\n",
       "₃ + u₁₁⋅u₁₃     ⎥\n",
       "                ⎥\n",
       "                ⎥\n",
       "₁₂⋅u₁₃ + u₂₂⋅u₂₃⎥\n",
       "                ⎥\n",
       "2      2      2 ⎥\n",
       "  + u₂₃  + u₃₃  ⎦"
      ]
     },
     "metadata": {},
     "output_type": "display_data"
    },
    {
     "name": "stdout",
     "output_type": "stream",
     "text": [
      "\n",
      "On equating this with A, we get\n"
     ]
    },
    {
     "data": {
      "image/png": "[encoded data removed]",
      "text/latex": [
       "$\\displaystyle \\left[\\begin{matrix}16 & 4 & 4 & -4\\\\4 & 10 & 4 & 2\\\\4 & 4 & 6 & -2\\\\-4 & 2 & -2 & 4\\end{matrix}\\right] = \\left[\\begin{matrix}u_{0, 0}^{2} & u_{0, 0} u_{0, 1} & u_{0, 0} u_{0, 2} & u_{0, 0} u_{0, 3}\\\\u_{0, 0} u_{0, 1} & u_{0, 1}^{2} + u_{1, 1}^{2} & u_{0, 1} u_{0, 2} + u_{1, 1} u_{1, 2} & u_{0, 1} u_{0, 3} + u_{1, 1} u_{1, 3}\\\\u_{0, 0} u_{0, 2} & u_{0, 1} u_{0, 2} + u_{1, 1} u_{1, 2} & u_{0, 2}^{2} + u_{1, 2}^{2} + u_{2, 2}^{2} & u_{0, 2} u_{0, 3} + u_{1, 2} u_{1, 3} + u_{2, 2} u_{2, 3}\\\\u_{0, 0} u_{0, 3} & u_{0, 1} u_{0, 3} + u_{1, 1} u_{1, 3} & u_{0, 2} u_{0, 3} + u_{1, 2} u_{1, 3} + u_{2, 2} u_{2, 3} & u_{0, 3}^{2} + u_{1, 3}^{2} + u_{2, 3}^{2} + u_{3, 3}^{2}\\end{matrix}\\right]$"
      ],
      "text/plain": [
       "                   ⎡    2                                                     \n",
       "                   ⎢ u₀₀          u₀₀⋅u₀₁                 u₀₀⋅u₀₂             \n",
       "⎡16  4   4   -4⎤   ⎢                                                          \n",
       "⎢              ⎥   ⎢               2      2                                   \n",
       "⎢4   10  4   2 ⎥   ⎢u₀₀⋅u₀₁     u₀₁  + u₁₁           u₀₁⋅u₀₂ + u₁₁⋅u₁₂        \n",
       "⎢              ⎥ = ⎢                                                          \n",
       "⎢4   4   6   -2⎥   ⎢                                   2      2      2        \n",
       "⎢              ⎥   ⎢u₀₀⋅u₀₂  u₀₁⋅u₀₂ + u₁₁⋅u₁₂      u₀₂  + u₁₂  + u₂₂        u\n",
       "⎣-4  2   -2  4 ⎦   ⎢                                                          \n",
       "                   ⎢                                                          \n",
       "                   ⎣u₀₀⋅u₀₃  u₀₁⋅u₀₃ + u₁₁⋅u₁₃  u₀₂⋅u₀₃ + u₁₂⋅u₁₃ + u₂₂⋅u₂₃   \n",
       "\n",
       "                          ⎤\n",
       "         u₀₀⋅u₀₃          ⎥\n",
       "                          ⎥\n",
       "                          ⎥\n",
       "    u₀₁⋅u₀₃ + u₁₁⋅u₁₃     ⎥\n",
       "                          ⎥\n",
       "                          ⎥\n",
       "₀₂⋅u₀₃ + u₁₂⋅u₁₃ + u₂₂⋅u₂₃⎥\n",
       "                          ⎥\n",
       "   2      2      2      2 ⎥\n",
       "u₀₃  + u₁₃  + u₂₃  + u₃₃  ⎦"
      ]
     },
     "metadata": {},
     "output_type": "display_data"
    },
    {
     "data": {
      "image/png": "[encoded data removed]",
      "text/latex": [
       "$\\displaystyle u_{0, 0}^{2} = 16$"
      ],
      "text/plain": [
       "   2     \n",
       "u₀₀  = 16"
      ]
     },
     "metadata": {},
     "output_type": "display_data"
    },
    {
     "data": {
      "image/png": "[encoded data removed]",
      "text/latex": [
       "$\\displaystyle u_{0, 0} u_{0, 1} = 4$"
      ],
      "text/plain": [
       "u₀₀⋅u₀₁ = 4"
      ]
     },
     "metadata": {},
     "output_type": "display_data"
    },
    {
     "data": {
      "image/png": "[encoded data removed]",
      "text/latex": [
       "$\\displaystyle u_{0, 0} u_{0, 2} = 4$"
      ],
      "text/plain": [
       "u₀₀⋅u₀₂ = 4"
      ]
     },
     "metadata": {},
     "output_type": "display_data"
    },
    {
     "data": {
      "image/png": "[encoded data removed]",
      "text/latex": [
       "$\\displaystyle u_{0, 0} u_{0, 3} = -4$"
      ],
      "text/plain": [
       "u₀₀⋅u₀₃ = -4"
      ]
     },
     "metadata": {},
     "output_type": "display_data"
    },
    {
     "data": {
      "image/png": "[encoded data removed]",
      "text/latex": [
       "$\\displaystyle u_{0, 0} u_{0, 1} = 4$"
      ],
      "text/plain": [
       "u₀₀⋅u₀₁ = 4"
      ]
     },
     "metadata": {},
     "output_type": "display_data"
    },
    {
     "data": {
      "image/png": "[encoded data removed]",
      "text/latex": [
       "$\\displaystyle u_{0, 1}^{2} + u_{1, 1}^{2} = 10$"
      ],
      "text/plain": [
       "   2      2     \n",
       "u₀₁  + u₁₁  = 10"
      ]
     },
     "metadata": {},
     "output_type": "display_data"
    },
    {
     "data": {
      "image/png": "[encoded data removed]",
      "text/latex": [
       "$\\displaystyle u_{0, 1} u_{0, 2} + u_{1, 1} u_{1, 2} = 4$"
      ],
      "text/plain": [
       "u₀₁⋅u₀₂ + u₁₁⋅u₁₂ = 4"
      ]
     },
     "metadata": {},
     "output_type": "display_data"
    },
    {
     "data": {
      "image/png": "[encoded data removed]",
      "text/latex": [
       "$\\displaystyle u_{0, 1} u_{0, 3} + u_{1, 1} u_{1, 3} = 2$"
      ],
      "text/plain": [
       "u₀₁⋅u₀₃ + u₁₁⋅u₁₃ = 2"
      ]
     },
     "metadata": {},
     "output_type": "display_data"
    },
    {
     "data": {
      "image/png": "[encoded data removed]",
      "text/latex": [
       "$\\displaystyle u_{0, 0} u_{0, 2} = 4$"
      ],
      "text/plain": [
       "u₀₀⋅u₀₂ = 4"
      ]
     },
     "metadata": {},
     "output_type": "display_data"
    },
    {
     "data": {
      "image/png": "[encoded data removed]",
      "text/latex": [
       "$\\displaystyle u_{0, 1} u_{0, 2} + u_{1, 1} u_{1, 2} = 4$"
      ],
      "text/plain": [
       "u₀₁⋅u₀₂ + u₁₁⋅u₁₂ = 4"
      ]
     },
     "metadata": {},
     "output_type": "display_data"
    },
    {
     "data": {
      "image/png": "[encoded data removed]",
      "text/latex": [
       "$\\displaystyle u_{0, 2}^{2} + u_{1, 2}^{2} + u_{2, 2}^{2} = 6$"
      ],
      "text/plain": [
       "   2      2      2    \n",
       "u₀₂  + u₁₂  + u₂₂  = 6"
      ]
     },
     "metadata": {},
     "output_type": "display_data"
    },
    {
     "data": {
      "image/png": "[encoded data removed]",
      "text/latex": [
       "$\\displaystyle u_{0, 2} u_{0, 3} + u_{1, 2} u_{1, 3} + u_{2, 2} u_{2, 3} = -2$"
      ],
      "text/plain": [
       "u₀₂⋅u₀₃ + u₁₂⋅u₁₃ + u₂₂⋅u₂₃ = -2"
      ]
     },
     "metadata": {},
     "output_type": "display_data"
    },
    {
     "data": {
      "image/png": "[encoded data removed]",
      "text/latex": [
       "$\\displaystyle u_{0, 0} u_{0, 3} = -4$"
      ],
      "text/plain": [
       "u₀₀⋅u₀₃ = -4"
      ]
     },
     "metadata": {},
     "output_type": "display_data"
    },
    {
     "data": {
      "image/png": "[encoded data removed]",
      "text/latex": [
       "$\\displaystyle u_{0, 1} u_{0, 3} + u_{1, 1} u_{1, 3} = 2$"
      ],
      "text/plain": [
       "u₀₁⋅u₀₃ + u₁₁⋅u₁₃ = 2"
      ]
     },
     "metadata": {},
     "output_type": "display_data"
    },
    {
     "data": {
      "image/png": "[encoded data removed]",
      "text/latex": [
       "$\\displaystyle u_{0, 2} u_{0, 3} + u_{1, 2} u_{1, 3} + u_{2, 2} u_{2, 3} = -2$"
      ],
      "text/plain": [
       "u₀₂⋅u₀₃ + u₁₂⋅u₁₃ + u₂₂⋅u₂₃ = -2"
      ]
     },
     "metadata": {},
     "output_type": "display_data"
    },
    {
     "data": {
      "image/png": "[encoded data removed]",
      "text/latex": [
       "$\\displaystyle u_{0, 3}^{2} + u_{1, 3}^{2} + u_{2, 3}^{2} + u_{3, 3}^{2} = 4$"
      ],
      "text/plain": [
       "   2      2      2      2    \n",
       "u₀₃  + u₁₃  + u₂₃  + u₃₃  = 4"
      ]
     },
     "metadata": {},
     "output_type": "display_data"
    },
    {
     "name": "stdout",
     "output_type": "stream",
     "text": [
      "\n",
      "Solving the above equations, we get\n",
      "\n"
     ]
    },
    {
     "data": {
      "image/png": "[encoded data removed]",
      "text/latex": [
       "$\\displaystyle U = \\left[\\begin{matrix}4 & 1 & 1 & -1\\\\0 & 3 & 1 & 1\\\\0 & 0 & 2 & -1\\\\0 & 0 & 0 & 1\\end{matrix}\\right]$"
      ],
      "text/plain": [
       "    ⎡4  1  1  -1⎤\n",
       "    ⎢           ⎥\n",
       "    ⎢0  3  1  1 ⎥\n",
       "U = ⎢           ⎥\n",
       "    ⎢0  0  2  -1⎥\n",
       "    ⎢           ⎥\n",
       "    ⎣0  0  0  1 ⎦"
      ]
     },
     "metadata": {},
     "output_type": "display_data"
    },
    {
     "name": "stdout",
     "output_type": "stream",
     "text": [
      "\n",
      "and\n",
      "\n"
     ]
    },
    {
     "data": {
      "image/png": "[encoded data removed]",
      "text/latex": [
       "$\\displaystyle U^{T} = \\left[\\begin{matrix}4 & 0 & 0 & 0\\\\1 & 3 & 0 & 0\\\\1 & 1 & 2 & 0\\\\-1 & 1 & -1 & 1\\end{matrix}\\right]$"
      ],
      "text/plain": [
       "       ⎡4   0  0   0⎤\n",
       "       ⎢            ⎥\n",
       "       ⎢1   3  0   0⎥\n",
       "U__T = ⎢            ⎥\n",
       "       ⎢1   1  2   0⎥\n",
       "       ⎢            ⎥\n",
       "       ⎣-1  1  -1  1⎦"
      ]
     },
     "metadata": {},
     "output_type": "display_data"
    },
    {
     "name": "stdout",
     "output_type": "stream",
     "text": [
      "\n",
      "A = UᵀU, Thus, the system Ax = b is\n",
      "\n",
      "UᵀUx = b\n",
      "\n",
      "Let Ux = y, then\n",
      "\n",
      "Uᵀy = b\n",
      "\n",
      "Step-1: Solve Uᵀy = b, to find y\n"
     ]
    },
    {
     "data": {
      "image/png": "[encoded data removed]",
      "text/latex": [
       "$\\displaystyle \\left[\\begin{matrix}4 & 0 & 0 & 0\\\\1 & 3 & 0 & 0\\\\1 & 1 & 2 & 0\\\\-1 & 1 & -1 & 1\\end{matrix}\\right] y = \\left[\\begin{matrix}32\\\\26\\\\20\\\\-6\\end{matrix}\\right]$"
      ],
      "text/plain": [
       "⎡4   0  0   0⎤     ⎡32⎤\n",
       "⎢            ⎥     ⎢  ⎥\n",
       "⎢1   3  0   0⎥     ⎢26⎥\n",
       "⎢            ⎥⋅y = ⎢  ⎥\n",
       "⎢1   1  2   0⎥     ⎢20⎥\n",
       "⎢            ⎥     ⎢  ⎥\n",
       "⎣-1  1  -1  1⎦     ⎣-6⎦"
      ]
     },
     "metadata": {},
     "output_type": "display_data"
    },
    {
     "data": {
      "image/png": "[encoded data removed]",
      "text/latex": [
       "$\\displaystyle \\left[\\begin{matrix}4 & 0 & 0 & 0\\\\1 & 3 & 0 & 0\\\\1 & 1 & 2 & 0\\\\-1 & 1 & -1 & 1\\end{matrix}\\right] \\left[\\begin{matrix}y_{0, 0}\\\\y_{1, 0}\\\\y_{2, 0}\\\\y_{3, 0}\\end{matrix}\\right] = \\left[\\begin{matrix}32\\\\26\\\\20\\\\-6\\end{matrix}\\right]$"
      ],
      "text/plain": [
       "⎡4   0  0   0⎤ ⎡y₀₀⎤   ⎡32⎤\n",
       "⎢            ⎥ ⎢   ⎥   ⎢  ⎥\n",
       "⎢1   3  0   0⎥ ⎢y₁₀⎥   ⎢26⎥\n",
       "⎢            ⎥⋅⎢   ⎥ = ⎢  ⎥\n",
       "⎢1   1  2   0⎥ ⎢y₂₀⎥   ⎢20⎥\n",
       "⎢            ⎥ ⎢   ⎥   ⎢  ⎥\n",
       "⎣-1  1  -1  1⎦ ⎣y₃₀⎦   ⎣-6⎦"
      ]
     },
     "metadata": {},
     "output_type": "display_data"
    },
    {
     "name": "stdout",
     "output_type": "stream",
     "text": [
      "By Applying forward substitution, we get\n"
     ]
    },
    {
     "data": {
      "image/png": "[encoded data removed]",
      "text/latex": [
       "$\\displaystyle y = \\left[\\begin{matrix}8.0\\\\6.0\\\\3.0\\\\-1.0\\end{matrix}\\right]$"
      ],
      "text/plain": [
       "    ⎡8.0 ⎤\n",
       "    ⎢    ⎥\n",
       "    ⎢6.0 ⎥\n",
       "y = ⎢    ⎥\n",
       "    ⎢3.0 ⎥\n",
       "    ⎢    ⎥\n",
       "    ⎣-1.0⎦"
      ]
     },
     "metadata": {},
     "output_type": "display_data"
    },
    {
     "name": "stdout",
     "output_type": "stream",
     "text": [
      "Step-2: Now solve Ux = y, to find x\n"
     ]
    },
    {
     "data": {
      "image/png": "[encoded data removed]",
      "text/latex": [
       "$\\displaystyle \\left[\\begin{matrix}4 & 1 & 1 & -1\\\\0 & 3 & 1 & 1\\\\0 & 0 & 2 & -1\\\\0 & 0 & 0 & 1\\end{matrix}\\right] x = \\left[\\begin{matrix}8.0\\\\6.0\\\\3.0\\\\-1.0\\end{matrix}\\right]$"
      ],
      "text/plain": [
       "⎡4  1  1  -1⎤     ⎡8.0 ⎤\n",
       "⎢           ⎥     ⎢    ⎥\n",
       "⎢0  3  1  1 ⎥     ⎢6.0 ⎥\n",
       "⎢           ⎥⋅x = ⎢    ⎥\n",
       "⎢0  0  2  -1⎥     ⎢3.0 ⎥\n",
       "⎢           ⎥     ⎢    ⎥\n",
       "⎣0  0  0  1 ⎦     ⎣-1.0⎦"
      ]
     },
     "metadata": {},
     "output_type": "display_data"
    },
    {
     "data": {
      "image/png": "[encoded data removed]",
      "text/latex": [
       "$\\displaystyle \\left[\\begin{matrix}4 & 1 & 1 & -1\\\\0 & 3 & 1 & 1\\\\0 & 0 & 2 & -1\\\\0 & 0 & 0 & 1\\end{matrix}\\right] \\left[\\begin{matrix}x_{0, 0}\\\\x_{1, 0}\\\\x_{2, 0}\\\\x_{3, 0}\\end{matrix}\\right] = \\left[\\begin{matrix}8.0\\\\6.0\\\\3.0\\\\-1.0\\end{matrix}\\right]$"
      ],
      "text/plain": [
       "⎡4  1  1  -1⎤ ⎡x₀₀⎤   ⎡8.0 ⎤\n",
       "⎢           ⎥ ⎢   ⎥   ⎢    ⎥\n",
       "⎢0  3  1  1 ⎥ ⎢x₁₀⎥   ⎢6.0 ⎥\n",
       "⎢           ⎥⋅⎢   ⎥ = ⎢    ⎥\n",
       "⎢0  0  2  -1⎥ ⎢x₂₀⎥   ⎢3.0 ⎥\n",
       "⎢           ⎥ ⎢   ⎥   ⎢    ⎥\n",
       "⎣0  0  0  1 ⎦ ⎣x₃₀⎦   ⎣-1.0⎦"
      ]
     },
     "metadata": {},
     "output_type": "display_data"
    },
    {
     "name": "stdout",
     "output_type": "stream",
     "text": [
      "By Applying back substitution, we get\n"
     ]
    },
    {
     "data": {
      "image/png": "[encoded data removed]",
      "text/latex": [
       "$\\displaystyle x = \\left[\\begin{matrix}1.0\\\\2.0\\\\1.0\\\\-1.0\\end{matrix}\\right]$"
      ],
      "text/plain": [
       "    ⎡1.0 ⎤\n",
       "    ⎢    ⎥\n",
       "    ⎢2.0 ⎥\n",
       "x = ⎢    ⎥\n",
       "    ⎢1.0 ⎥\n",
       "    ⎢    ⎥\n",
       "    ⎣-1.0⎦"
      ]
     },
     "metadata": {},
     "output_type": "display_data"
    }
   ],
   "source": [
    "a = [[16,4,4,-4],[4,10,4,2],[4,4,6,-2],[-4,2,-2,4]]\n",
    "b = [32,26,20,-6]\n",
    "lsf.get_linear_system(system_type='lu_cholesky').solve(a = a, b = b)"
   ]
  },
  {
   "cell_type": "code",
   "execution_count": 4,
   "id": "51478985",
   "metadata": {},
   "outputs": [
    {
     "name": "stdout",
     "output_type": "stream",
     "text": [
      "Input matrix A:\n",
      "\n"
     ]
    },
    {
     "data": {
      "image/png": "[encoded data removed]",
      "text/latex": [
       "$\\displaystyle \\left[\\begin{matrix}2 & 4 & -6\\\\1 & 5 & 3\\\\1 & 3 & 2\\end{matrix}\\right]$"
      ],
      "text/plain": [
       "⎡2  4  -6⎤\n",
       "⎢        ⎥\n",
       "⎢1  5  3 ⎥\n",
       "⎢        ⎥\n",
       "⎣1  3  2 ⎦"
      ]
     },
     "metadata": {},
     "output_type": "display_data"
    },
    {
     "name": "stdout",
     "output_type": "stream",
     "text": [
      "\n",
      "Eigenvalues of A:\n",
      "[6.91899444+0.j         1.04050278+1.23243177j 1.04050278-1.23243177j]\n",
      "\n",
      "Eigenvectors of A:\n",
      "[[-0.04709471+0.j         -0.84851703+0.j         -0.52706825+0.j        ]\n",
      " [-0.95382596+0.j          0.24668209-0.04761205j  0.0119225 +0.16417954j]\n",
      " [-0.95382596-0.j          0.24668209+0.04761205j  0.0119225 -0.16417954j]]\n"
     ]
    },
    {
     "data": {
      "image/png": "[encoded data removed]",
      "text/latex": [
       "$\\displaystyle \\left[\\begin{matrix}-0.0470947087829147\\\\-0.848517028504013\\\\-0.52706825055525\\end{matrix}\\right]$"
      ],
      "text/plain": [
       "⎡-0.0470947087829147⎤\n",
       "⎢                   ⎥\n",
       "⎢-0.848517028504013 ⎥\n",
       "⎢                   ⎥\n",
       "⎣ -0.52706825055525 ⎦"
      ]
     },
     "metadata": {},
     "output_type": "display_data"
    },
    {
     "data": {
      "image/png": "[encoded data removed]",
      "text/latex": [
       "$\\displaystyle \\left[\\begin{matrix}-0.953825964777063\\\\0.246682092636414 - 0.0476120472253326 i\\\\0.0119225014491486 + 0.164179538943905 i\\end{matrix}\\right]$"
      ],
      "text/plain": [
       "⎡           -0.953825964777063           ⎤\n",
       "⎢                                        ⎥\n",
       "⎢0.246682092636414 - 0.0476120472253326⋅ⅈ⎥\n",
       "⎢                                        ⎥\n",
       "⎣0.0119225014491486 + 0.164179538943905⋅ⅈ⎦"
      ]
     },
     "metadata": {},
     "output_type": "display_data"
    },
    {
     "data": {
      "image/png": "[encoded data removed]",
      "text/latex": [
       "$\\displaystyle \\left[\\begin{matrix}-0.953825964777063\\\\0.246682092636414 + 0.0476120472253326 i\\\\0.0119225014491486 - 0.164179538943905 i\\end{matrix}\\right]$"
      ],
      "text/plain": [
       "⎡           -0.953825964777063           ⎤\n",
       "⎢                                        ⎥\n",
       "⎢0.246682092636414 + 0.0476120472253326⋅ⅈ⎥\n",
       "⎢                                        ⎥\n",
       "⎣0.0119225014491486 - 0.164179538943905⋅ⅈ⎦"
      ]
     },
     "metadata": {},
     "output_type": "display_data"
    },
    {
     "name": "stdout",
     "output_type": "stream",
     "text": [
      "\n",
      "We can write A in the form:\n",
      "\n"
     ]
    },
    {
     "data": {
      "image/png": "[encoded data removed]",
      "text/latex": [
       "$\\displaystyle A = P D P^{-1}$"
      ],
      "text/plain": [
       "         -1\n",
       "A = P⋅D⋅P  "
      ]
     },
     "metadata": {},
     "output_type": "display_data"
    },
    {
     "name": "stdout",
     "output_type": "stream",
     "text": [
      "Where, D is the diagonal matrix containing eigenvalues:\n",
      "\n"
     ]
    },
    {
     "data": {
      "image/png": "[encoded data removed]",
      "text/latex": [
       "$\\displaystyle D = \\left[\\begin{matrix}6.91899444059415 & 0 & 0\\\\0 & 1.04050277970293 + 1.23243177054791 i & 0\\\\0 & 0 & 1.04050277970293 - 1.23243177054791 i\\end{matrix}\\right]$"
      ],
      "text/plain": [
       "    ⎡6.91899444059415                    0                                    \n",
       "    ⎢                                                                         \n",
       "D = ⎢       0          1.04050277970293 + 1.23243177054791⋅ⅈ                  \n",
       "    ⎢                                                                         \n",
       "    ⎣       0                            0                    1.04050277970293\n",
       "\n",
       "  0                  ⎤\n",
       "                     ⎥\n",
       "  0                  ⎥\n",
       "                     ⎥\n",
       " - 1.23243177054791⋅ⅈ⎦"
      ]
     },
     "metadata": {},
     "output_type": "display_data"
    },
    {
     "name": "stdout",
     "output_type": "stream",
     "text": [
      "And P is the matrix containing eigenvectors as columns:\n",
      "\n"
     ]
    },
    {
     "data": {
      "image/png": "[encoded data removed]",
      "text/latex": [
       "$\\displaystyle P = \\left[\\begin{matrix}-0.0470947087829147 & -0.848517028504013 & -0.52706825055525\\\\-0.953825964777063 & 0.246682092636414 - 0.0476120472253326 i & 0.0119225014491486 + 0.164179538943905 i\\\\-0.953825964777063 & 0.246682092636414 + 0.0476120472253326 i & 0.0119225014491486 - 0.164179538943905 i\\end{matrix}\\right]$"
      ],
      "text/plain": [
       "    ⎡-0.0470947087829147             -0.848517028504013                       \n",
       "    ⎢                                                                         \n",
       "P = ⎢-0.953825964777063   0.246682092636414 - 0.0476120472253326⋅ⅈ  0.01192250\n",
       "    ⎢                                                                         \n",
       "    ⎣-0.953825964777063   0.246682092636414 + 0.0476120472253326⋅ⅈ  0.01192250\n",
       "\n",
       " -0.52706825055525            ⎤\n",
       "                              ⎥\n",
       "14491486 + 0.164179538943905⋅ⅈ⎥\n",
       "                              ⎥\n",
       "14491486 - 0.164179538943905⋅ⅈ⎦"
      ]
     },
     "metadata": {},
     "output_type": "display_data"
    }
   ],
   "source": [
    "lsf.get_linear_system(system_type='diagonalization').solve(a = a)"
   ]
  },
  {
   "cell_type": "code",
   "execution_count": null,
   "id": "e61cc158",
   "metadata": {},
   "outputs": [],
   "source": []
  }
 ],
 "metadata": {
  "kernelspec": {
   "display_name": "Python 3 (ipykernel)",
   "language": "python",
   "name": "python3"
  },
  "language_info": {
   "codemirror_mode": {
    "name": "ipython",
    "version": 3
   },
   "file_extension": ".py",
   "mimetype": "text/x-python",
   "name": "python",
   "nbconvert_exporter": "python",
   "pygments_lexer": "ipython3",
   "version": "3.7.16"
  }
 },
 "nbformat": 4,
 "nbformat_minor": 5
}
